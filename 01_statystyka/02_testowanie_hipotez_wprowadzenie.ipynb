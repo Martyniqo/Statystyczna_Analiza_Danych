{
 "cells": [
  {
   "cell_type": "markdown",
   "metadata": {
    "id": "l38zf4uLaAo2"
   },
   "source": [
    "# Testowanie hipotez"
   ]
  },
  {
   "cell_type": "code",
   "execution_count": 48,
   "metadata": {
    "executionInfo": {
     "elapsed": 1718,
     "status": "ok",
     "timestamp": 1683464629810,
     "user": {
      "displayName": "Krzysztof Rudaś",
      "userId": "02080427901267625380"
     },
     "user_tz": -120
    },
    "id": "zRfOQF1paAo5"
   },
   "outputs": [],
   "source": [
    "import numpy as np\n",
    "import matplotlib.pyplot as plt\n",
    "from scipy import stats\n",
    "from scipy.stats import t"
   ]
  },
  {
   "cell_type": "markdown",
   "metadata": {
    "id": "YWQwCLeEaAo6"
   },
   "source": [
    "## Klasyczny algorytm testowania hipotez\n",
    "1. postawić hipotezę zerową $H_0$ i hipotezę alternatywną $H_1$;\n",
    "2. wyspecyfikować model matematyczny (np. zakładamy, że próba losowa pochodzi z rozkładu normalnego o nieznanej wariancji);\n",
    "3. przyjąć poziom istotności $\\alpha$;\n",
    "4. obliczyć wartość statystyki testowej $T = T(X_1, \\ldots, X_n)$\n",
    "5. wyznaczyć obszar krytyczny $W_{\\alpha}$ (w zależności od przyjętego poziomu istotności oraz hipotezy alternatywnej);\n",
    "6. podjąć decyzję\n",
    "\n",
    "    a) jeśli $T\\in W_{\\alpha}$, wówczas odrzuć hipotezę $H_0$,\n",
    "    \n",
    "    b) jeśli $T\\not\\in W_{\\alpha}$, wówczas nie ma podstaw do odrzucenia hipotezy $H_0$;"
   ]
  },
  {
   "cell_type": "markdown",
   "metadata": {
    "id": "-KYYVgAyaAo6"
   },
   "source": [
    "## Algorytm testowania hipotez - przy użyciu $p$-wartości\n",
    "1. postawić hipotezę zerową $H_0$ i hipotezę alternatywną $H_1$;\n",
    "2. wyspecyfikować model matematyczny;\n",
    "3. przyjąć poziom istotności $\\alpha$;\n",
    "4. obliczyć wartość statystyki testowej $T = T(X_1, \\ldots, X_n)$\n",
    "5. obliczyć $p$-wartość;\n",
    "6. podjąć decyzję\n",
    "\n",
    "    a) jeśli $p\\leq\\alpha$, wówczas odrzuć hipotezę $H_0$,\n",
    "\n",
    "    b) jeśli $p>\\alpha$, wówczas nie ma podstaw do odrzucenia hipotezy $H_0$;\n"
   ]
  },
  {
   "cell_type": "markdown",
   "metadata": {
    "id": "gfWBoJrLaAo7"
   },
   "source": [
    "## Testy dla wartości oczekiwanej\n",
    "Załóżmy, że jesteśmy zainteresowaniu weryfikacją hipotezy dotyczącej wartości oczekiwanej $mu$:\n",
    "$$\n",
    "    H_0: \\mu = \\mu_0,\n",
    "$$\n",
    "wobec jednej z trzech hipotez alternatywnych\n",
    "\\begin{equation*}\n",
    "    \\begin{split}\n",
    "        H_1&: \\mu \\neq \\mu_0\\\\\n",
    "        H_1'&: \\mu < \\mu_0\\\\\n",
    "        H_1''&: \\mu > \\mu_0.\n",
    "    \\end{split}\n",
    "\\end{equation*}\n"
   ]
  },
  {
   "cell_type": "markdown",
   "metadata": {
    "id": "50rLZaPeaAo7"
   },
   "source": [
    "## Test dla wartości oczekiwanej - model 1\n",
    "Załóżmy, że badana cecha $X$ ma rozkład normalny $\\mathcal{N(\\mu, \\sigma})$ o znanym odchyleniu standardowym $\\sigma$. \n",
    "\n",
    "Statystyka testowa przyjmuje w tym przypadku postać\n",
    "$$\n",
    "    T = \\frac{\\overline{X} - \\mu_0}{\\sigma}\\sqrt{n}.\n",
    "$$\n",
    "\n",
    "Przy założeniu prawdziwości hipotezy $H_0$ statystyka ma rozkład normalny standardowy $\\mathcal{N}(0,1)$, z zwiążku z czym obszar krytyczny - w zależności od przyjętej hipotezy alternatywnej - ma postać\n",
    "$$\n",
    "W_{\\alpha} = (-\\infty, -z_{1-\\frac{\\alpha}{2}}]\\cup[z_{1-\\frac{\\alpha}{2}}, +\\infty),\n",
    "$$\n",
    "\n",
    "$$\n",
    "W_{\\alpha}^{'} = (-\\infty, -z_{1-\\alpha}],\n",
    "$$\n",
    "\n",
    "$$\n",
    "W_{\\alpha}^{''} =[z_{1-\\alpha}, +\\infty].\n",
    "$$\n",
    "\n",
    "Natomiast, w zależności od przyjętej hipotezy zerowej, zakładając symetryczność rozkładu, $p$-wartość jest postaci\n",
    "\\begin{equation*}\n",
    "    \\begin{split}\n",
    "        p-\\text{value} &= P(|T|\\geq |t|) = P(T\\geq |t|)+P(T< -|t|) = 2P(T< -|t|) = 2F(-|t|) = 2(1-F(|t|))\\\\\n",
    "        p-\\text{value} &= P(T < t) = F(t)\\\\\n",
    "        p-\\text{value} &= P(T > t)=1-P(T \\leq t) = 1-F(t).\n",
    "    \\end{split}\n",
    "\\end{equation*}"
   ]
  },
  {
   "cell_type": "markdown",
   "metadata": {
    "id": "rQyPFXpzaAo8"
   },
   "source": [
    "**Zadanie - model 1.** Niech $X_1, \\ldots, X_n$ oznacza próbę prostą o liczności $n=20$ z rozkładu normalnego o znanym odchyleniu standardowym $\\sigma=0.8$.\n",
    "\n",
    "a) Załóżmy, że średnia z tej próby wynosi 1.54. Wyznacz obszar krytyczny do weryfikacji hipotezy \n",
    "    $$\\begin{equation*}\n",
    "    \\begin{split}\n",
    "        H_0: \\mu &= 1.6\\\\\n",
    "        H_1: \\mu &< 1.6,\n",
    "    \\end{split}\n",
    "    \\end{equation*}$$\n",
    "    na poziomie istotności 0.05.\n",
    "        \n",
    "b) Oblicz $p$-value dla powyższego testu.\n",
    "    \n",
    "c) Ile wynosiłoby $p$-value, gdyby średnia z próby wynosiłaby 1.3?\n",
    "\n",
    "d) Ile wynosiłoby $p$-value, gdyby średnia z próby wynosiłaby 1.7 i gdybyśmy testowali rozważaną hipotezę zerową wobec jednostronnej hipotezy alternatywnej \n",
    "  $$\n",
    "  H_1: \\mu > 1.6\n",
    "  $$\n",
    "    \n",
    "d) Ile wynosiłoby $p$-value, gdyby średnia z próby wynosiłaby 1.54 i gdybyśmy testowali rozważaną hipotezę zerową wobec dwustronnej hipotezy alternatywnej \n",
    "  $$\n",
    "  H_1: \\mu \\neq 1.6\n",
    "  $$"
   ]
  },
  {
   "cell_type": "code",
   "execution_count": null,
   "metadata": {
    "colab": {
     "base_uri": "https://localhost:8080/"
    },
    "executionInfo": {
     "elapsed": 385,
     "status": "ok",
     "timestamp": 1678053909008,
     "user": {
      "displayName": "Krzysztof Rudaś",
      "userId": "02080427901267625380"
     },
     "user_tz": -60
    },
    "id": "OcmmBM6EaAo8",
    "outputId": "562c4ede-40c6-404a-9704-d3e64c730ad0"
   },
   "outputs": [
    {
     "name": "stdout",
     "output_type": "stream",
     "text": [
      "Wartość statystyki testowej T: -0.34\n",
      "Wartość kwantyla rozkładu normalnego standardowego rzędu 0.95: 1.6448536269514722\n",
      "Obszar krytyczny: (-inf, -1.6448536269514722)\n"
     ]
    }
   ],
   "source": [
    "# a)\n",
    "\n",
    "# przyjąć poziom istotności 𝛼\n",
    "alpha = 0.05\n",
    "\n",
    "# obliczyć wartość statystyki testowej 𝑇\n",
    "X_mean = 1.54\n",
    "mu0 = 1.6\n",
    "sigma = 0.8\n",
    "n = 20\n",
    "\n",
    "T = np.sqrt(n) * (X_mean - mu0) / sigma\n",
    "print(\"Wartość statystyki testowej T: {}\".format(np.round(T, 2)))\n",
    "\n",
    "# wyznaczyć obszar krytyczny \n",
    "z = stats.norm.ppf(q=1-alpha, loc=0, scale=1)\n",
    "print(\"Wartość kwantyla rozkładu normalnego standardowego rzędu 0.95: {}\".format(z))\n",
    "\n",
    "critical = (-np.Inf, -z)\n",
    "print(\"Obszar krytyczny: {}\".format(critical))\n",
    "\n",
    "# wniosek: wyznaczona wartość statystyki testowej nie należy do obszaru krytycznego, \n",
    "# nie mamy podstaw do odrzucenia hipotezy zerowej."
   ]
  },
  {
   "cell_type": "code",
   "execution_count": null,
   "metadata": {
    "colab": {
     "base_uri": "https://localhost:8080/",
     "height": 606
    },
    "executionInfo": {
     "elapsed": 998,
     "status": "ok",
     "timestamp": 1678053931338,
     "user": {
      "displayName": "Krzysztof Rudaś",
      "userId": "02080427901267625380"
     },
     "user_tz": -60
    },
    "id": "mFSjv1xjaAo9",
    "outputId": "4ca6891e-c199-48b2-ba6a-b21f3944a0e8"
   },
   "outputs": [
    {
     "data": {
      "image/png": "[encoded data removed]",
      "text/plain": [
       "<Figure size 1440x720 with 1 Axes>"
      ]
     },
     "metadata": {
      "needs_background": "light"
     },
     "output_type": "display_data"
    }
   ],
   "source": [
    "fig, ax = plt.subplots(1, 1, figsize=(20, 10))\n",
    "\n",
    "norm01 = stats.norm(loc=0, scale=1)\n",
    "\n",
    "x0 = -z\n",
    "a, b = -5, 5\n",
    "x_value = np.linspace(a, b, 100)\n",
    "\n",
    "x = np.linspace(a, x0)\n",
    "y = norm01.pdf(x)\n",
    "\n",
    "ax.plot(x_value, norm01.pdf(x_value))\n",
    "ax.fill_between(x, y, alpha=0.2)\n",
    "ax.text(x0, 0.05, 'z={}'.format(np.round(x0, 2)), size=30)\n",
    "ax.vlines(T, 0, norm01.pdf(T),  linestyles='--')\n",
    "ax.text(T, 0.1, 'T={}'.format(np.round(T, 2)), size=30)\n",
    "ax.set_xlabel('x')\n",
    "ax.set_ylabel('PDF(x)')\n",
    "plt.show()"
   ]
  },
  {
   "cell_type": "code",
   "execution_count": null,
   "metadata": {
    "colab": {
     "base_uri": "https://localhost:8080/"
    },
    "executionInfo": {
     "elapsed": 358,
     "status": "ok",
     "timestamp": 1678053946307,
     "user": {
      "displayName": "Krzysztof Rudaś",
      "userId": "02080427901267625380"
     },
     "user_tz": -60
    },
    "id": "zNbho79laAo-",
    "outputId": "bcfad00b-58fe-4d75-cbf7-5e44c7f792a2"
   },
   "outputs": [
    {
     "name": "stdout",
     "output_type": "stream",
     "text": [
      "P-value: 0.368657838608209\n"
     ]
    }
   ],
   "source": [
    "# b) \n",
    "# p-value = P(T < t|H0) = F(t), gdzie t to wyznaczona wartosc statystyki testowej na podstawie probki\n",
    "# T (przy zalozeniu prawdziwosci hipotezy zerowej) ma rozklad normalny standardowy\n",
    "\n",
    "pval = stats.norm.cdf(x=T, loc=0, scale=1)\n",
    "print(\"P-value: {}\".format(pval)) # > 0.05\n",
    "\n",
    "# wniosek: obliczona p-wartosc jest większa niż ustalony poziom istotności, \n",
    "# brak podstaw do odrzucenia hipotezy zerowej"
   ]
  },
  {
   "cell_type": "code",
   "execution_count": null,
   "metadata": {
    "colab": {
     "base_uri": "https://localhost:8080/"
    },
    "executionInfo": {
     "elapsed": 355,
     "status": "ok",
     "timestamp": 1678053951936,
     "user": {
      "displayName": "Krzysztof Rudaś",
      "userId": "02080427901267625380"
     },
     "user_tz": -60
    },
    "id": "mO1mOQdjaAo-",
    "outputId": "6b4ba17f-be77-4ad5-ef87-72d3110af760"
   },
   "outputs": [
    {
     "name": "stdout",
     "output_type": "stream",
     "text": [
      "Wartość statystyki testowej T: -1.68\n",
      "Wartość kwantyla rozkładu normalnego standardowego rzędu 0.95: 1.6448536269514722\n",
      "Obszar krytyczny: (-inf, -1.6448536269514722)\n",
      "P-value: 0.046766256344546515\n"
     ]
    }
   ],
   "source": [
    "# c)\n",
    "\n",
    "# obliczyć wartość statystyki testowej 𝑇\n",
    "X_mean = 1.3\n",
    "mu0 = 1.6\n",
    "sigma = 0.8\n",
    "n = 20\n",
    "\n",
    "T = np.sqrt(n) * (X_mean - mu0) / sigma\n",
    "print(\"Wartość statystyki testowej T: {}\".format(np.round(T, 2)))\n",
    "\n",
    "# wyznaczyć obszar krytyczny \n",
    "z = stats.norm.ppf(q=1-alpha, loc=0, scale=1)\n",
    "print(\"Wartość kwantyla rozkładu normalnego standardowego rzędu 0.95: {}\".format(z))\n",
    "\n",
    "critical = (-np.Inf, -z)\n",
    "print(\"Obszar krytyczny: {}\".format(critical))\n",
    "\n",
    "pval = stats.norm.cdf(x=T, loc=0, scale=1)\n",
    "print(\"P-value: {}\".format(pval)) # < 0.05\n",
    "\n",
    "# wniosek: wartość statystyki testowej należy do obszaru krytycznego, p-value jest mniejsze niż ustalony poziom \n",
    "# istotności, mamy podstawy do odrzucenia hipotezy zerowej."
   ]
  },
  {
   "cell_type": "code",
   "execution_count": null,
   "metadata": {
    "colab": {
     "base_uri": "https://localhost:8080/",
     "height": 606
    },
    "executionInfo": {
     "elapsed": 1036,
     "status": "ok",
     "timestamp": 1678054319190,
     "user": {
      "displayName": "Krzysztof Rudaś",
      "userId": "02080427901267625380"
     },
     "user_tz": -60
    },
    "id": "NLwb2jnwHBFC",
    "outputId": "9a23f8a1-f896-4995-8134-5f13e485359a"
   },
   "outputs": [
    {
     "data": {
      "image/png": "[encoded data removed]",
      "text/plain": [
       "<Figure size 1440x720 with 1 Axes>"
      ]
     },
     "metadata": {
      "needs_background": "light"
     },
     "output_type": "display_data"
    }
   ],
   "source": [
    "fig, ax = plt.subplots(1, 1, figsize=(20, 10))\n",
    "\n",
    "norm01 = stats.norm(loc=0, scale=1)\n",
    "\n",
    "x0 = -z\n",
    "a, b = -5, 5\n",
    "x_value = np.linspace(a, b, 100)\n",
    "\n",
    "x = np.linspace(a, x0)\n",
    "y = norm01.pdf(x)\n",
    "\n",
    "ax.plot(x_value, norm01.pdf(x_value))\n",
    "ax.fill_between(x, y, alpha=0.2)\n",
    "ax.text(x0, 0.05, 'z={}'.format(np.round(x0, 2)), size=30)\n",
    "ax.vlines(T, 0, norm01.pdf(T),  linestyles='--')\n",
    "ax.text(T, 0.1, 'T={}'.format(np.round(T, 2)), size=30)\n",
    "ax.set_xlabel('x')\n",
    "ax.set_ylabel('PDF(x)')\n",
    "plt.show()"
   ]
  },
  {
   "cell_type": "code",
   "execution_count": null,
   "metadata": {
    "colab": {
     "base_uri": "https://localhost:8080/"
    },
    "executionInfo": {
     "elapsed": 368,
     "status": "ok",
     "timestamp": 1678054354742,
     "user": {
      "displayName": "Krzysztof Rudaś",
      "userId": "02080427901267625380"
     },
     "user_tz": -60
    },
    "id": "UDkidn0gGYUi",
    "outputId": "634574b5-4759-4d0c-a3b4-397806ae3253"
   },
   "outputs": [
    {
     "name": "stdout",
     "output_type": "stream",
     "text": [
      "Wartość statystyki testowej T: 0.56\n",
      "Wartość kwantyla rozkładu normalnego standardowego rzędu 0.95: 1.6448536269514722\n",
      "Obszar krytyczny: (1.6448536269514722, inf)\n",
      "P-value: 0.2880750610152897\n"
     ]
    }
   ],
   "source": [
    "#d\n",
    "# obliczyć wartość statystyki testowej 𝑇\n",
    "X_mean = 1.7\n",
    "mu0 = 1.6\n",
    "sigma = 0.8\n",
    "n = 20\n",
    "\n",
    "T = np.sqrt(n) * (X_mean - mu0) / sigma\n",
    "print(\"Wartość statystyki testowej T: {}\".format(np.round(T, 2)))\n",
    "\n",
    "# wyznaczyć obszar krytyczny \n",
    "z = stats.norm.ppf(q=1-alpha, loc=0, scale=1)\n",
    "print(\"Wartość kwantyla rozkładu normalnego standardowego rzędu 0.95: {}\".format(z))\n",
    "\n",
    "critical = (z,np.Inf)\n",
    "print(\"Obszar krytyczny: {}\".format(critical))\n",
    "\n",
    "#p-value = P(T > t|H0) = 1-F(t)\n",
    "pval = 1-stats.norm.cdf(x=T, loc=0, scale=1)\n",
    "print(\"P-value: {}\".format(pval)) # > 0.05\n",
    "\n",
    "# wniosek: wartość statystyki testowej nie należy do obszaru krytycznego, p-value jest większe niż ustalony poziom \n",
    "# istotności, nie mamy podstaw do odrzucenia hipotezy zerowej."
   ]
  },
  {
   "cell_type": "code",
   "execution_count": null,
   "metadata": {
    "colab": {
     "base_uri": "https://localhost:8080/",
     "height": 606
    },
    "executionInfo": {
     "elapsed": 510,
     "status": "ok",
     "timestamp": 1678054358476,
     "user": {
      "displayName": "Krzysztof Rudaś",
      "userId": "02080427901267625380"
     },
     "user_tz": -60
    },
    "id": "xSbDFUzGJgem",
    "outputId": "2cc099ae-05f1-4503-e910-049175a825b0"
   },
   "outputs": [
    {
     "data": {
      "image/png": "[encoded data removed]",
      "text/plain": [
       "<Figure size 1440x720 with 1 Axes>"
      ]
     },
     "metadata": {
      "needs_background": "light"
     },
     "output_type": "display_data"
    }
   ],
   "source": [
    "fig, ax = plt.subplots(1, 1, figsize=(20, 10))\n",
    "\n",
    "norm01 = stats.norm(loc=0, scale=1)\n",
    "\n",
    "x0 = z\n",
    "a, b = -5, 5\n",
    "x_value = np.linspace(a, b, 100)\n",
    "\n",
    "x = np.linspace(x0,b)\n",
    "y = norm01.pdf(x)\n",
    "\n",
    "ax.plot(x_value, norm01.pdf(x_value))\n",
    "ax.fill_between(x, y, alpha=0.2)\n",
    "ax.text(x0, 0.05, 'z={}'.format(np.round(x0, 2)), size=30)\n",
    "ax.vlines(T, 0, norm01.pdf(T),  linestyles='--')\n",
    "ax.text(T, 0.1, 'T={}'.format(np.round(T, 2)), size=30)\n",
    "ax.set_xlabel('x')\n",
    "ax.set_ylabel('PDF(x)')\n",
    "plt.show()"
   ]
  },
  {
   "cell_type": "code",
   "execution_count": null,
   "metadata": {
    "colab": {
     "base_uri": "https://localhost:8080/"
    },
    "executionInfo": {
     "elapsed": 371,
     "status": "ok",
     "timestamp": 1678054371958,
     "user": {
      "displayName": "Krzysztof Rudaś",
      "userId": "02080427901267625380"
     },
     "user_tz": -60
    },
    "id": "MGviDqc6aAo-",
    "outputId": "cd12b722-3387-4250-ffc6-c185a92a0773",
    "scrolled": true
   },
   "outputs": [
    {
     "name": "stdout",
     "output_type": "stream",
     "text": [
      "Wartość statystyki testowej T: -0.34\n",
      "Wartość kwantyla rozkładu normalnego standardowego rzędu 0.975: 1.959963984540054\n",
      "Obszar krytyczny: (-inf, -1.959963984540054)  (1.959963984540054, inf)\n",
      "P-value: 0.737315677216418\n"
     ]
    }
   ],
   "source": [
    "# e)\n",
    "\n",
    "# przyjąć poziom istotności 𝛼\n",
    "alpha = 0.05\n",
    "\n",
    "# obliczyć wartość statystyki testowej 𝑇\n",
    "X_mean = 1.54\n",
    "mu0 = 1.6\n",
    "sigma = 0.8\n",
    "n = 20\n",
    "\n",
    "T = np.sqrt(n) * (X_mean - mu0) / sigma\n",
    "print(\"Wartość statystyki testowej T: {}\".format(np.round(T, 2)))\n",
    "\n",
    "# wyznaczyć obszar krytyczny \n",
    "z = stats.norm.ppf(q=1-alpha/2, loc=0, scale=1)\n",
    "print(\"Wartość kwantyla rozkładu normalnego standardowego rzędu 0.975: {}\".format(z))\n",
    "\n",
    "critical_left = (-np.Inf, -z)\n",
    "critical_right = (z, np.Inf)\n",
    "print(\"Obszar krytyczny: {}  {}\".format(critical_left, critical_right))\n",
    "\n",
    "# p-value\n",
    "# P(|T|>|t|) = P(T>|t|) + P(T<-|t|) = 1 - F(|t|) + F(-|t|) = 1 - F(|t|) + 1 - F(|t|) = 2(1-F(|t|))\n",
    "pval = 2 * (1 - norm01.cdf(np.abs(T)))\n",
    "print(\"P-value: {}\".format(pval))\n",
    "# wniosek: wartość statystyki testowej nie należy do obszaru krytycznego, p-value jest większe niż ustalony poziom \n",
    "# istotności, nie mamy podstaw do odrzucenia hipotezy zerowej."
   ]
  },
  {
   "cell_type": "code",
   "execution_count": null,
   "metadata": {
    "colab": {
     "base_uri": "https://localhost:8080/",
     "height": 606
    },
    "executionInfo": {
     "elapsed": 976,
     "status": "ok",
     "timestamp": 1678054375847,
     "user": {
      "displayName": "Krzysztof Rudaś",
      "userId": "02080427901267625380"
     },
     "user_tz": -60
    },
    "id": "9UjOjiXTKCKL",
    "outputId": "bc02275f-34d0-4312-9333-db7ff3e5a6c5"
   },
   "outputs": [
    {
     "data": {
      "image/png": "[encoded data removed]",
      "text/plain": [
       "<Figure size 1440x720 with 1 Axes>"
      ]
     },
     "metadata": {
      "needs_background": "light"
     },
     "output_type": "display_data"
    }
   ],
   "source": [
    "fig, ax = plt.subplots(1, 1, figsize=(20, 10))\n",
    "\n",
    "norm01 = stats.norm(loc=0, scale=1)\n",
    "\n",
    "x0 = -z\n",
    "x1 = z\n",
    "a, b = -5, 5\n",
    "x_value = np.linspace(a, b, 100)\n",
    "\n",
    "x = np.linspace(a, x0)\n",
    "y = norm01.pdf(x)\n",
    "\n",
    "xk = np.linspace(x1,b)\n",
    "yk = norm01.pdf(xk)\n",
    "\n",
    "ax.plot(x_value, norm01.pdf(x_value))\n",
    "ax.fill_between(x, y, alpha=0.2)\n",
    "ax.fill_between(xk, yk, alpha=0.2)\n",
    "ax.text(x0, 0.05, 'z={}'.format(np.round(x0, 2)), size=30)\n",
    "ax.text(x1, 0.05, 'z={}'.format(np.round(x1, 2)), size=30)\n",
    "ax.vlines(T, 0, norm01.pdf(T),  linestyles='--')\n",
    "ax.vlines(-T, 0, norm01.pdf(T),  linestyles='--')\n",
    "ax.text(T, 0.15, 'T={}'.format(np.round(T, 2)), size=30)\n",
    "ax.text(-T, 0.05, '-T={}'.format(np.round(-T, 2)), size=30)\n",
    "ax.set_xlabel('x')\n",
    "ax.set_ylabel('PDF(x)')\n",
    "plt.show()"
   ]
  },
  {
   "cell_type": "code",
   "execution_count": 6,
   "metadata": {
    "id": "NC6RaihXaAo_"
   },
   "outputs": [],
   "source": [
    "def hypothesis_testing1(mu0, sigma, X_mean, n, alpha, alternative='two_sided'):\n",
    "\n",
    "    T = np.sqrt(n) * (X_mean - mu0) / sigma\n",
    "    print(\"Wartość statystyki testowej T: {}\".format(np.round(T, 2)))\n",
    "\n",
    "    if alternative != 'two_sided':\n",
    "        z = stats.norm.ppf(q=1-alpha, loc=0, scale=1)\n",
    "    else:\n",
    "        z = stats.norm.ppf(q=1-alpha/2, loc=0, scale=1)\n",
    "    print(\"Wartość kwantyla rozkładu normalnego standardowego rzędu 0.95: {}\".format(z))\n",
    "\n",
    "    if alternative == 'bottom':\n",
    "        critical_left = (-np.inf, -z)\n",
    "        print(\"Obszar krytyczny: {}\".format(critical_left))\n",
    "        pval = stats.norm.cdf(T)\n",
    "    elif alternative == 'upper':\n",
    "        critical_right = (z, np.inf)\n",
    "        print(\"Obszar krytyczny: {}\".format(critical_right))\n",
    "        pval = 1 - stats.norm.cdf(T)\n",
    "    else:\n",
    "        critical_left = (-np.inf, -z)\n",
    "        critical_right = (z, np.inf)\n",
    "        print(\"Obszar krytyczny: {}  {}\".format(critical_left, critical_right))\n",
    "        pval = 2 * (1 - norm01.cdf(np.abs(T)))\n",
    "        \n",
    "    print(\"P-value: {}\".format(pval))"
   ]
  },
  {
   "attachments": {
    "image-2.png": {
     "image/png": "[encoded data removed]"
    },
    "image.png": {
     "image/png": "[encoded data removed]"
    }
   },
   "cell_type": "markdown",
   "metadata": {
    "id": "LgjwymJBaAo_"
   },
   "source": [
    "**Zadanie - model 1**. Norma techniczna przewiduje średnio 64 sekundy na ułożenie w kartonie 100 tabliczek czekolady. Czas trwania tej czynności jest zmienną losową o rozkładzie normalnym z odchyleniem standardowym 10 sekund. Ponieważ robotnicy często skarżyli się, że norma jest źle ustalona, dokonano pomiaru czasu trwania tej czynności u losowo wybranych 225 robotników i otrzymano, że średni czas trwania czynności jest równy 65 s.\n",
    "Czy na poziomie istotności 0.05 można stwierdzić, że średni czas czynności jest większy niż norma?\n",
    "\n",
    "![image-2.png](attachment:image-2.png)"
   ]
  },
  {
   "cell_type": "code",
   "execution_count": 11,
   "metadata": {},
   "outputs": [
    {
     "name": "stdout",
     "output_type": "stream",
     "text": [
      "Statystyka testowa (T): 1.5\n",
      "Wartość krytyczna (z): 1.6448536269514722\n",
      "Obszar krytyczny: (1.6448536269514722, + inf)\n",
      "P-wartość (p-value): 0.06680720126885809\n",
      "Brak podstaw do odrzucenia hipotezy zerowej (H₀).\n",
      "Brak podstaw do odrzucenia hipotezy zerowej (H₀) na podstawie p-wartości.\n"
     ]
    }
   ],
   "source": [
    "# Ustawienie poziomu istotności (α)\n",
    "alpha = 0.05  # Przyjmujemy poziom istotności na 5%\n",
    "\n",
    "# Parametry próby i populacji\n",
    "X_mean = 65  # Średnia próby wynosi 65\n",
    "mu0 = 64  # Średnia zakładana w hipotezie zerowej wynosi 64\n",
    "sigma = 10  # Odchylenie standardowe populacji wynosi 10\n",
    "n = 225  # Liczebność próby wynosi 225\n",
    "\n",
    "# Obliczenie statystyki testowej Z\n",
    "# Wzór: Z = (X_mean - mu0) / (sigma / sqrt(n))\n",
    "T = (X_mean - mu0) / (sigma / np.sqrt(n))  \n",
    "print(\"Statystyka testowa (T):\", T)  # Wyświetlenie wartości statystyki testowej\n",
    "\n",
    "# Wyznaczenie wartości krytycznej Z dla poziomu istotności α\n",
    "# Wartość krytyczna Z to nic innego jak kwantyl rozkładu normalnego odpowiadający określonemu poziomowi istotności (α) w teście statystycznym\n",
    "z = stats.norm.ppf(q=1-alpha, loc=0, scale=1)  # funkcja ppf() zwraca kwantyl rzędu 1-α\n",
    "print(\"Wartość krytyczna (z):\", z)  \n",
    "print(\"Obszar krytyczny: ({}, + inf)\".format(z))\n",
    "\n",
    "# Obliczenie p-wartości (p-value)\n",
    "# P-wartość to prawdopodobieństwo uzyskania statystyki testowej T lub większej przy założeniu prawdziwości H₀\n",
    "p_value = 1 - stats.norm.cdf(T, loc=0, scale=1) \n",
    "print(\"P-wartość (p-value):\", p_value)  # Wyświetlenie p-wartości\n",
    "\n",
    "# Decyzja na podstawie wartości krytycznej lub p-wartości\n",
    "if T > z:\n",
    "    print(\"Odrzucamy hipotezę zerową (H₀). Średnia różni się istotnie statystycznie.\")\n",
    "else:\n",
    "    print(\"Brak podstaw do odrzucenia hipotezy zerowej (H₀).\")\n",
    "    \n",
    "# Alternatywnie można podjąć decyzję na podstawie p-wartości:\n",
    "if p_value < alpha:\n",
    "    print(\"Odrzucamy hipotezę zerową (H₀) na podstawie p-wartości.\")\n",
    "else:\n",
    "    print(\"Brak podstaw do odrzucenia hipotezy zerowej (H₀) na podstawie p-wartości.\")\n"
   ]
  },
  {
   "cell_type": "markdown",
   "metadata": {},
   "source": [
    "> Obszar krytyczny (ang. critical region) to zbiór wartości statystyki testowej, które prowadzą do odrzucenia hipotezy zerowej (H₀) na określonym poziomie istotności (α)."
   ]
  },
  {
   "cell_type": "code",
   "execution_count": 9,
   "metadata": {
    "colab": {
     "base_uri": "https://localhost:8080/"
    },
    "executionInfo": {
     "elapsed": 354,
     "status": "ok",
     "timestamp": 1678054396459,
     "user": {
      "displayName": "Krzysztof Rudaś",
      "userId": "02080427901267625380"
     },
     "user_tz": -60
    },
    "id": "HbcPTQ2vaAo_",
    "outputId": "166179c1-61ed-40ec-9dfd-32838553c040"
   },
   "outputs": [
    {
     "name": "stdout",
     "output_type": "stream",
     "text": [
      "Wartość statystyki testowej T: 1.5\n",
      "Wartość kwantyla rozkładu normalnego standardowego rzędu 0.95: 1.6448536269514722\n",
      "Obszar krytyczny: (np.float64(1.6448536269514722), inf)\n",
      "P-value: 0.06680720126885809\n"
     ]
    }
   ],
   "source": [
    "# Norma jest wyrażana przez mi, czyli średnią rozkładu normalnego \n",
    "# H0: mu = 64 sek\n",
    "# H1: mu > 64\n",
    "\n",
    "hypothesis_testing1(mu0=64, sigma=10, X_mean=65, n=225, alpha=0.05, alternative='upper')\n",
    "\n",
    "#zostajnemy przy H_0 - robotnicy skarżą się bezpodstawnie"
   ]
  },
  {
   "cell_type": "markdown",
   "metadata": {},
   "source": [
    "Odp.: Nie zmieniam tej normy. "
   ]
  },
  {
   "cell_type": "markdown",
   "metadata": {
    "id": "U2mnEVj1aApA"
   },
   "source": [
    "## Test dla wartości oczekiwanej - model 2\n",
    "Jeżeli cecha $X$ ma rozkład normalny $\\mathcal{N}(\\mu, \\sigma)$ o nieznanym odchyleniu standardowym $\\sigma$, to do weryfikacji hipotezy $H_0$ wykonujemy test zbudowany na statystyce \n",
    "$$\n",
    "    T = \\frac{\\overline{X} - \\mu_0}{S}\\sqrt{n},\n",
    "$$\n",
    "która przy założeniu prawdziwości hipotezy $H_0$ na rozkład $t$-Studenta o $n-1$ stopniach swobody.\n",
    "\n",
    "W zależności od przyjętej hipotezy alternatywnej obszar krytyczny przybiera postać\n",
    "\\begin{equation*}\n",
    "    \\begin{split}\n",
    "        W_{\\alpha} &= (-\\infty, -t_{1-\\frac{\\alpha}{2}}^{[n-1]}]\\cup[t_{1-\\frac{\\alpha}{2}}^{[n-1]}, +\\infty),\\\\\n",
    "        W_{\\alpha}^{'} &= (-\\infty, -t_{1-\\alpha}^{[n-1]}],\\\\\n",
    "        W_{\\alpha}^{''} &=[t_{1-\\alpha}^{[n-1]}, +\\infty].\n",
    "    \\end{split}\n",
    "\\end{equation*}"
   ]
  },
  {
   "cell_type": "markdown",
   "metadata": {
    "id": "btVub20YaApA"
   },
   "source": [
    "**Zadanie - model 2.** \n",
    "\n",
    "Dział kontroli jakości w zakładach chemicznych chce oszacować **średnią wagę proszku** do prania sprzedawanego w pudełkach o nominalnej wadze 3 kg. Pobrano w tym celu próbkę 9 pudełek proszku do prania. Każde pudełko zważono i otrzymano następujące wyniki (w kilogramach): 2.97, 3.04, 2.95, 3.01, 3.00, 2.99, 2.97, 3.05, 2.96. Wiadomo, że rozkład wagi pudełka proszku do prania jest normalny. Na poziomie istotności 0.01 sprawdzić, czy średnia waga proszku różni się istotnie od wagi nominalnej."
   ]
  },
  {
   "cell_type": "markdown",
   "metadata": {
    "id": "dSc1xKEJaApA"
   },
   "source": [
    "$X$ - zmienna losowa, opisująca wagę proszku do prania, $X\\sim\\mathcal{N}(\\mu, \\sigma)$, gdzie $\\mu$ i $\\sigma$ nieznane.\n",
    "\n",
    "Testujemy hipoteze:\n",
    "$$\n",
    "    \\begin{equation*}\n",
    "    \\begin{split}\n",
    "        H_0: \\mu &= 3\\\\\n",
    "        H_1: \\mu &\\neq 3,\n",
    "    \\end{split}\n",
    "    \\end{equation*}\n",
    "$$\n",
    "na poziomie istotności $\\alpha=0.01$."
   ]
  },
  {
   "cell_type": "code",
   "execution_count": 27,
   "metadata": {},
   "outputs": [
    {
     "name": "stdout",
     "output_type": "stream",
     "text": [
      "Średnia próby: 2.993333333333333\n",
      "Wartość statystyki testowej T: -0.5714285714285863\n",
      "Obszar krytyczny: (-3.3553873313333953, 3.3553873313333953)\n",
      "P-value: 0.5834022940515253\n"
     ]
    },
    {
     "data": {
      "image/png": "[encoded data removed]",
      "text/plain": [
       "<Figure size 1000x600 with 1 Axes>"
      ]
     },
     "metadata": {},
     "output_type": "display_data"
    }
   ],
   "source": [
    "# Dane\n",
    "X = [2.97, 3.04, 2.95, 3.01, 3.00, 2.99, 2.97, 3.05, 2.96]\n",
    "X_mean = np.mean(X)\n",
    "X_std = np.std(X, ddof=1)\n",
    "n = 9\n",
    "alpha = 0.01\n",
    "mu0 = 3\n",
    "\n",
    "# H0: mu = 3\n",
    "# H1: mu != 3\n",
    "\n",
    "# Statystyka testowa\n",
    "T = (X_mean - mu0) * np.sqrt(n) / X_std\n",
    "t_critical = stats.t.ppf(1 - alpha / 2, df=n-1)\n",
    "p_value = 2 * stats.t.cdf(-np.abs(T), df=n-1)\n",
    "\n",
    "\n",
    "# Wyniki\n",
    "print(f\"Średnia próby: {X_mean}\")\n",
    "print(f\"Wartość statystyki testowej T: {T}\")\n",
    "print(f\"Obszar krytyczny: (-{t_critical}, {t_critical})\")\n",
    "print(f\"P-value: {p_value}\")\n",
    "\n",
    "# Wykres\n",
    "x = np.linspace(-4, 4, 1000)\n",
    "y = stats.t.pdf(x, df=n-1)\n",
    "\n",
    "plt.figure(figsize=(10, 6))\n",
    "plt.plot(x, y, label='Rozkład t-Studenta', color='blue')\n",
    "plt.fill_between(x, 0, y, where=(x <= -t_critical) | (x >= t_critical), \n",
    "                 color='#D1007A', alpha=0.7, label='Obszar krytyczny')\n",
    "\n",
    "# Linie pionowe\n",
    "plt.axvline(T, color='red', linestyle='--', label='Statystyka testowa T')\n",
    "plt.axvline(-t_critical, color='black', linestyle='--', label=f'-t_critical = {-t_critical:.2f}')\n",
    "plt.axvline(t_critical, color='black', linestyle='--', label=f't_critical = {t_critical:.2f}')\n",
    "\n",
    "# Ustawienia osi i siatki\n",
    "plt.title('Test t-Studenta dla średniej')\n",
    "plt.xlabel('Wartość statystyki')\n",
    "plt.ylabel('Gęstość prawdopodobieństwa')\n",
    "plt.legend(loc='upper right', bbox_to_anchor=(1.2, 1))  # Legenda poza wykresem\n",
    "plt.ylim(0, max(y) * 1.1)  # Ograniczenie wysokości osi Y\n",
    "plt.xlim(-4, 4)  # Ograniczenie zakresu X\n",
    "plt.grid(True, linestyle='--', alpha=0.5)\n",
    "\n",
    "plt.tight_layout()\n",
    "plt.show()\n"
   ]
  },
  {
   "cell_type": "code",
   "execution_count": 17,
   "metadata": {
    "colab": {
     "base_uri": "https://localhost:8080/"
    },
    "executionInfo": {
     "elapsed": 364,
     "status": "ok",
     "timestamp": 1678059285353,
     "user": {
      "displayName": "Krzysztof Rudaś",
      "userId": "02080427901267625380"
     },
     "user_tz": -60
    },
    "id": "D3AylhsxaApA",
    "outputId": "98efaf9f-6497-4456-dbed-834c3f53aa35"
   },
   "outputs": [
    {
     "data": {
      "text/plain": [
       "((-inf, np.float64(-3.3553873313333953)),\n",
       " (np.float64(3.3553873313333953), inf))"
      ]
     },
     "execution_count": 17,
     "metadata": {},
     "output_type": "execute_result"
    }
   ],
   "source": [
    "ta = stats.t.ppf(1 - alpha/2, df=n-1)\n",
    "(-np.inf, -ta), (ta, np.inf)\n",
    "#statystyka poza obszarem krytycznym - nie odrzucamy"
   ]
  },
  {
   "cell_type": "code",
   "execution_count": null,
   "metadata": {
    "colab": {
     "base_uri": "https://localhost:8080/"
    },
    "executionInfo": {
     "elapsed": 2,
     "status": "ok",
     "timestamp": 1678059286986,
     "user": {
      "displayName": "Krzysztof Rudaś",
      "userId": "02080427901267625380"
     },
     "user_tz": -60
    },
    "id": "W7jTCnJtaApB",
    "outputId": "f99b634f-ee7e-4b7e-acd1-9cf8ed505aba"
   },
   "outputs": [
    {
     "data": {
      "text/plain": [
       "TtestResult(statistic=-0.5714285714285863, pvalue=0.5834022940515253, df=8)"
      ]
     },
     "execution_count": 163,
     "metadata": {},
     "output_type": "execute_result"
    }
   ],
   "source": [
    "stats.ttest_1samp(a = X, popmean = mu0) #automatyczna funkcja do liczenia takich rzeczy"
   ]
  },
  {
   "cell_type": "markdown",
   "metadata": {
    "id": "F87ASPaKaApB"
   },
   "source": [
    "**Zadanie - model 2.** \n",
    "\n",
    "Weryfikujemy hipotezę zerową mówiącą o tym, że średnia zawartość sacharozy w tabletkach homeopatycznych  pewnej  firmy  (średnia  w  populacji)  wynosi  2  mcg,  wobec  hipotezy alternatywnej mówiącej o tym, iż jest ona większa. Wiadomo z całą pewnością, iż rozkład zawartości sacharozy w tabletkach jest normalny. Zbadano 12 elementową próbę tabletek, której wyniki były następujące: 1, 2, 2, 2, 2, 2, 2, 2, 2, 3, 3, 3. Przy poziomie istotności $\\alpha=0.05$ zweryfikować odpowiednie hipotezy. "
   ]
  },
  {
   "cell_type": "code",
   "execution_count": 43,
   "metadata": {
    "colab": {
     "base_uri": "https://localhost:8080/"
    },
    "executionInfo": {
     "elapsed": 347,
     "status": "ok",
     "timestamp": 1678059289210,
     "user": {
      "displayName": "Krzysztof Rudaś",
      "userId": "02080427901267625380"
     },
     "user_tz": -60
    },
    "id": "Wr8CYBf2aApB",
    "outputId": "8360fb71-a6c0-4a70-c2aa-751fbe3521d7"
   },
   "outputs": [
    {
     "name": "stdout",
     "output_type": "stream",
     "text": [
      "Wartość statystyki testowej T: 0.999999999999999\n",
      "Obszar krytyczny: (1.7958848187036691, +inf)\n",
      "P-value: 0.16940034809810123\n"
     ]
    }
   ],
   "source": [
    "# Importujemy potrzebne biblioteki\n",
    "import numpy as np\n",
    "from scipy import stats\n",
    "\n",
    "# Hipotezy:\n",
    "# H0: mu = 2 (średnia teoretyczna wynosi 2)\n",
    "# H1: mu > 2 (średnia jest większa niż 2)\n",
    "# Test jednostronny prawostronny.\n",
    "\n",
    "# Parametry testu\n",
    "n = 12              # liczba obserwacji\n",
    "alpha = 0.05        # poziom istotności\n",
    "mu0 = 2             # średnia teoretyczna pod hipotezą zerową\n",
    "\n",
    "# Dane z próby\n",
    "X = [1, 2, 2, 2, 2, 2, 2, 2, 2, 3, 3, 3]\n",
    "X_mean = np.mean(X)       # obliczamy średnią próby\n",
    "X_std = np.std(X, ddof=1) # obliczamy odchylenie standardowe próby (ddof=1 -> estymator nieobciążony)\n",
    "\n",
    "# Obliczenie statystyki testowej T\n",
    "# Statystyka testowa dla średniej z rozkładem t-Studenta:\n",
    "# T = (średnia z próby - średnia teoretyczna) / (odchylenie standardowe / pierwiastek z liczby obserwacji)\n",
    "T = (X_mean - mu0) * np.sqrt(n) / X_std\n",
    "\n",
    "# Krytyczna wartość statystyki t przy zadanym poziomie istotności i stopniach swobody\n",
    "# stats.t.ppf daje wartość kwantyla rozkładu t-Studenta\n",
    "t_critical = stats.t.ppf(1 - alpha, df=n-1)\n",
    "\n",
    "print(f\"Wartość statystyki testowej T: {T}\")\n",
    "print(f\"Obszar krytyczny: ({t_critical}, +inf)\")\n",
    "\n",
    "# P(T > t) = 1 - CDF(t)\n",
    "# CDF (dystrybuanta) rozkładu t-Studenta daje prawdopodobieństwo, że zmienna losowa T przyjmie wartość ≤ T\n",
    "# Ponieważ nasz test jest jednostronny i badamy P(T > t), musimy obliczyć dopełnienie tego prawdopodobieństwa.\n",
    "# Dlatego od 1 odejmujemy wartość dystrybuanty.\n",
    "pval = 1 - stats.t.cdf(x=T, df=n-1)\n",
    "\n",
    "print(\"P-value: {}\".format(pval))\n"
   ]
  },
  {
   "cell_type": "code",
   "execution_count": 49,
   "metadata": {},
   "outputs": [
    {
     "data": {
      "image/png": "[encoded data removed]",
      "text/plain": [
       "<Figure size 640x480 with 1 Axes>"
      ]
     },
     "metadata": {},
     "output_type": "display_data"
    }
   ],
   "source": [
    "# Parametry\n",
    "df = n - 1\n",
    "x = np.linspace(-4, 4, 1000)\n",
    "y = t.pdf(x, df)\n",
    "\n",
    "# Wykres rozkładu t-Studenta\n",
    "plt.plot(x, y, label='Rozkład t-Studenta')\n",
    "plt.fill_between(x, y, 0, where=(x > t_critical), color='#D1007A', alpha=0.7, label='Obszar krytyczny')\n",
    "plt.axvline(T, color='blue', linestyle='--', label='Wartość statystyki T')\n",
    "plt.axvline(t_critical, color='red', linestyle='--', label='Wartość krytyczna t')\n",
    "\n",
    "plt.title('Test t-Studenta: Hipoteza jednostronna prawostronna')\n",
    "plt.xlabel('Wartości statystyki t')\n",
    "plt.ylabel('Gęstość prawdopodobieństwa')\n",
    "plt.legend()\n",
    "plt.show()\n"
   ]
  },
  {
   "cell_type": "code",
   "execution_count": 51,
   "metadata": {
    "colab": {
     "base_uri": "https://localhost:8080/"
    },
    "executionInfo": {
     "elapsed": 356,
     "status": "ok",
     "timestamp": 1678059291419,
     "user": {
      "displayName": "Krzysztof Rudaś",
      "userId": "02080427901267625380"
     },
     "user_tz": -60
    },
    "id": "Dfs_QHzn145S",
    "outputId": "c68502f0-e3d0-4622-fc0c-7dc81983f68d"
   },
   "outputs": [
    {
     "data": {
      "text/plain": [
       "(np.float64(1.7958848187036691), inf)"
      ]
     },
     "execution_count": 51,
     "metadata": {},
     "output_type": "execute_result"
    }
   ],
   "source": [
    "ta = stats.t.ppf(1 - alpha, df=n-1)\n",
    "(ta, np.inf)\n",
    "#statystyka poza obszarem krytycznym - nie odrzucamy"
   ]
  },
  {
   "cell_type": "markdown",
   "metadata": {
    "id": "w4bvJevMaApB"
   },
   "source": [
    "## Test dla wartości oczekiwanej - model 3\n",
    "Jeżeli próba pochodzi z dowolnego rozkładu (posiadającego jednakże skończoną wariancję), ale jest wystarczająco duża ($n\\geq 100)$, wówczas statystyka testowa przyjmuje postać\n",
    "\\begin{equation*}\n",
    "    T = \\frac{\\overline{X} - \\mu_0}{S}\\sqrt{n}.\n",
    "\\end{equation*}\n",
    "\n",
    "Przy założeniu prawdziwości hipotezy $H_0$ i dla dostatecznie dużej próby statystyka ma w przybliżeniu rozkład normalny standardowy $\\mathcal{N}(0,1)$, w związku z czym obszar krytyczny --- w zależności od przyjętej hipotezy alternatywnej --- ma postać\n",
    "\\begin{equation*}\n",
    "    \\begin{split}\n",
    "        W_{\\alpha} &= (-\\infty, -z_{1-\\frac{\\alpha}{2}}]\\cup[z_{1-\\frac{\\alpha}{2}}, +\\infty),\\\\\n",
    "        W_{\\alpha}^{'} &= (-\\infty, -z_{1-\\alpha}],\\\\\n",
    "        W_{\\alpha}^{''} &=[z_{1-\\alpha}, +\\infty].\n",
    "    \\end{split}\n",
    "\\end{equation*}"
   ]
  },
  {
   "cell_type": "markdown",
   "metadata": {
    "id": "wocbd8bWaApC"
   },
   "source": [
    "**Zadanie - model 3.** W wylosowanej niezależnie próbie 140 zakładów zbadano koszty własne produkcji pewnego wyrobu. Stwierdzono, że średnie koszty wynoszą 540 zł z odchyleniem standardowym 150 zł. Czy na poziomie istotności 0.1 można twierdzić, że średnie koszty produkcji danego typu wyrobu są wyższe niż 500 zł?"
   ]
  },
  {
   "cell_type": "code",
   "execution_count": 33,
   "metadata": {
    "colab": {
     "base_uri": "https://localhost:8080/"
    },
    "executionInfo": {
     "elapsed": 360,
     "status": "ok",
     "timestamp": 1678059294566,
     "user": {
      "displayName": "Krzysztof Rudaś",
      "userId": "02080427901267625380"
     },
     "user_tz": -60
    },
    "id": "Ep-EczMaaApC",
    "outputId": "2c8d410f-2003-46af-da8b-7c527ba0fe72"
   },
   "outputs": [
    {
     "name": "stdout",
     "output_type": "stream",
     "text": [
      "Wartość statystyki testowej T: 3.155\n",
      "P-value: 0.0008018236312070659\n"
     ]
    }
   ],
   "source": [
    "# H0: mu = 500\n",
    "# H1: mu > 500\n",
    "\n",
    "n = 140\n",
    "mu0 = 500\n",
    "X_mean = 540\n",
    "X_std = 150\n",
    "alpha = 0.1\n",
    "\n",
    "t = (X_mean - mu0) * np.sqrt(n) / X_std\n",
    "print(\"Wartość statystyki testowej T: {}\".format(np.round(t, 3)))\n",
    "\n",
    "# P(T>t) = 1-CDF(t)\n",
    "pval = 1 - stats.norm.cdf(x = t, loc=0, scale=1)\n",
    "print(\"P-value: {}\".format(pval))\n",
    "\n",
    "# pval < poziom istotnosci => mamy podstawy do odrzucenia hipotezy zerowej \n",
    "# średnie koszty produkcji danego typu wyrobu są  istotnie wyższe niż 500 zł"
   ]
  },
  {
   "cell_type": "code",
   "execution_count": 34,
   "metadata": {},
   "outputs": [
    {
     "name": "stdout",
     "output_type": "stream",
     "text": [
      "Wartość statystyki testowej T: 3.155\n",
      "Obszar krytyczny: (-1.6558898677725957, 1.6558898677725957)\n"
     ]
    }
   ],
   "source": [
    "T = (X_mean - mu0) * np.sqrt(n) / X_std\n",
    "t_critical = stats.t.ppf(1 - alpha / 2, df=n-1)\n",
    "\n",
    "print(f\"Wartość statystyki testowej T: {np.round(T, 3)}\")\n",
    "print(f\"Obszar krytyczny: (-{t_critical}, {t_critical})\")"
   ]
  },
  {
   "cell_type": "code",
   "execution_count": null,
   "metadata": {
    "colab": {
     "base_uri": "https://localhost:8080/"
    },
    "executionInfo": {
     "elapsed": 340,
     "status": "ok",
     "timestamp": 1678059297429,
     "user": {
      "displayName": "Krzysztof Rudaś",
      "userId": "02080427901267625380"
     },
     "user_tz": -60
    },
    "id": "NcnQCC582snN",
    "outputId": "35882cb3-3da6-46f8-9e9e-b44230c3040c"
   },
   "outputs": [
    {
     "data": {
      "text/plain": [
       "(1.2815515655446004, inf)"
      ]
     },
     "execution_count": 167,
     "metadata": {},
     "output_type": "execute_result"
    }
   ],
   "source": [
    "z = stats.norm.ppf(1 - alpha)\n",
    "(z, np.Inf)\n",
    "#statystyka wewnątrz obszaru krytycznego - odrzucamy"
   ]
  },
  {
   "cell_type": "markdown",
   "metadata": {
    "id": "nMFbA42PaApC"
   },
   "source": [
    "## Testy dla dwóch prób niezależnych\n",
    "W praktyce istotną rolę odgrywają testy statystyczne, za pomocą których można porównywać wartości oczekiwane badanej cechy w dwóch różnych zbiorowościach statystycznych. \n",
    "\n",
    "W szczególności interesująca jest weryfikacja hipotezy, że obie porównywalne średnie sa jednakowe\n",
    "\\begin{equation*}\n",
    "    H_0: \\mu_1 = \\mu_2,\n",
    "\\end{equation*}\n",
    "przy jednej z trzech hipotez alternatywnych:\n",
    "\\begin{equation*}\n",
    "    \\begin{split}\n",
    "        H_1&: \\mu_1 \\neq \\mu_2\\\\\n",
    "        H_1{'}&: \\mu_1 < \\mu_2\\\\\n",
    "        H_1''&: \\mu_1 > \\mu_2.\n",
    "    \\end{split}\n",
    "\\end{equation*}"
   ]
  },
  {
   "cell_type": "markdown",
   "metadata": {
    "id": "NF3gKYS4aApC"
   },
   "source": [
    "## Test dla dwóch prób niezależnych - model 1\n",
    "Załóżmy, że próby $X_1, \\ldots, X_{n_1}$ i $Y_1, \\ldots, Y_{n_2}$ są niezależn i pochodzą z populacji o rozkładach normalnych, odpowiednio, $\\mathcal{N}(\\mu_1, \\sigma_1)$ i $\\mathcal{N}(\\mu_2, \\sigma_2)$ oraz odchylenia standardowe $\\sigma_1$ i $\\sigma_2$ są znane.\n",
    "\n",
    "Wówczas statystyka testowa ma postać\n",
    "$$\n",
    "    T = \\frac{\\overline{X} - \\overline{Y}}{\\sqrt{\\frac{\\sigma_1^2}{n_1} + \\frac{\\sigma_2^2}{n_2}}}.\n",
    "$$\n",
    "Statystyka przy założeniu prawdziwości hipotezy zerowej $H_0$ ma rozkład normalny $\\mathcal{N}(0, 1)$. Obszar krytyczny --- w zależności od przyjętej hipotezy alternatywnej --- ma postać\n",
    "\\begin{equation*}\n",
    "    \\begin{split}\n",
    "        W_{\\alpha} &= (-\\infty, -z_{1-\\frac{\\alpha}{2}}]\\cup[z_{1-\\frac{\\alpha}{2}}, +\\infty),\\\\\n",
    "        W_{\\alpha}^{'} &= (-\\infty, -z_{1-\\alpha}],\\\\\n",
    "        W_{\\alpha}^{''} &=[z_{1-\\alpha}, +\\infty].\n",
    "    \\end{split}\n",
    "\\end{equation*}"
   ]
  },
  {
   "cell_type": "markdown",
   "metadata": {
    "id": "5vUJ4TghaApC"
   },
   "source": [
    "**Zadanie.** W celu porównania płac mężczyzn i kobiet zatrudnionych w pewnym dziale przemysłu pobrano próbkę losową 100 mężczyzn i 90 kobiet. Średnia płaca mężczyzn, obliczona na podstawie pobranej próbki, wyniosła 6280 zł, natomiast średnia płacy kobiet wyniosła 4210 zł. Na poziomie istotności 0.05 sprawdzić, czy średnia płaca kobiet zatrudnionych w tym dziale przemysłu jest istotnie niższa od średniej płacy mężczyzn. Zakładamy, że rozkład płacy mężczyzn i kobiet jest rozkładem normalnym z wariancjami, odpowiednio, 10000 zł$^2$ oraz 6400 zł$^2$."
   ]
  },
  {
   "cell_type": "markdown",
   "metadata": {
    "id": "yVAhBzM_aApC"
   },
   "source": [
    "$X$ - zmienna losowa, opisująca płace mężczyzn, $X\\sim\\mathcal{N}(\\mu_1, \\sigma_1)$, gdzie $\\mu_1=?$ i $\\sigma_1=100zł$.\n",
    "\n",
    "$Y$ - zmienna losowa, opisująca płace kobiet, $Y\\sim\\mathcal{N}(\\mu_2, \\sigma_2)$, gdzie $\\mu_2=?$ i $\\sigma_2=80zł$.\n",
    "\n",
    "\n",
    "Testujemy hipoteze:\n",
    "    \\begin{equation*}\n",
    "    \\begin{split}\n",
    "        H_0: \\mu_1 &= \\mu_2\\\\\n",
    "        H_1: \\mu_1 &> \\mu_2,\n",
    "    \\end{split}\n",
    "    \\end{equation*}\n",
    "na poziomie istotności $\\alpha=0.05$."
   ]
  },
  {
   "cell_type": "code",
   "execution_count": null,
   "metadata": {
    "colab": {
     "base_uri": "https://localhost:8080/"
    },
    "executionInfo": {
     "elapsed": 547,
     "status": "ok",
     "timestamp": 1678059302075,
     "user": {
      "displayName": "Krzysztof Rudaś",
      "userId": "02080427901267625380"
     },
     "user_tz": -60
    },
    "id": "aPx5H7L6aApC",
    "outputId": "dd70dc44-a825-4800-8134-4bbefe331c29"
   },
   "outputs": [
    {
     "name": "stdout",
     "output_type": "stream",
     "text": [
      "Wartość statystyki testowej T: 158.25\n",
      "P-value: 0.0\n"
     ]
    }
   ],
   "source": [
    "alpha=0.05\n",
    "n1 = 100\n",
    "sigma1 = 100\n",
    "\n",
    "n2 = 90\n",
    "sigma2 = 80\n",
    "\n",
    "X_mean = 6280\n",
    "Y_mean = 4210\n",
    "\n",
    "t = (X_mean - Y_mean) / np.sqrt((sigma1**2 / n1) + (sigma2**2 / n2))\n",
    "print(\"Wartość statystyki testowej T: {}\".format(np.round(t, 2)))\n",
    "\n",
    "# P(T>t) = 1-CDF(t)\n",
    "pval = 1 - stats.norm.cdf(x = t, loc=0, scale=1)\n",
    "print(\"P-value: {}\".format(pval))\n",
    "\n",
    "# pvalue < 0.05, mamy podstawy do odrzucenia hipotezy zerowej\n",
    "# na poziomie istotności 0.05, średnia płaca mężczyzn jest istotnie większa niż średnia płaca kobiet."
   ]
  },
  {
   "cell_type": "code",
   "execution_count": null,
   "metadata": {
    "colab": {
     "base_uri": "https://localhost:8080/"
    },
    "executionInfo": {
     "elapsed": 487,
     "status": "ok",
     "timestamp": 1678059304949,
     "user": {
      "displayName": "Krzysztof Rudaś",
      "userId": "02080427901267625380"
     },
     "user_tz": -60
    },
    "id": "kKyuJ4lG3F0N",
    "outputId": "37abe81b-06bf-47b7-c181-f57749bdc542"
   },
   "outputs": [
    {
     "data": {
      "text/plain": [
       "(1.6448536269514722, inf)"
      ]
     },
     "execution_count": 169,
     "metadata": {},
     "output_type": "execute_result"
    }
   ],
   "source": [
    "z = stats.norm.ppf(1 - alpha)\n",
    "(z, np.Inf)\n",
    "#statystyka wewnątrz obszaru krytycznego - odrzucamy"
   ]
  },
  {
   "cell_type": "markdown",
   "metadata": {
    "id": "NiP9nAasaApC"
   },
   "source": [
    "## Test dla dwóch prób niezależnych - model 2\n",
    "\n",
    "Załóżmy, że próby $X_1, \\ldots, X_{n_1}$ i $Y_1, \\ldots, Y_{n_2}$ są niezależne i pochodzą z populacji o rozkładach normalnych, odpowiednio, $\\mathcal{N}(\\mu_1, \\sigma_1)$ i $\\mathcal{N}(\\mu_2, \\sigma_2)$ o nieznanych odchyleniach standardowych $\\sigma_1$ i $\\sigma_2$, ale równych, tzn. $\\sigma_1=\\sigma_2$.\n",
    "\n",
    "Wówczas statystyka testowa ma postać\n",
    "\\begin{equation*}\n",
    "    T = \\frac{\\overline{X} - \\overline{Y}}{\\sqrt{\\frac{(n_1-1)S_1^2 + (n_2-1)S^2_2}{n_1+n_2-2}(\\frac{1}{n_1}+\\frac{1}{n_2})}}.\n",
    "\\end{equation*}\n",
    "Statystyka przy założeniu prawdziwości hipotezy zerowej $H_0$ ma rozkład $t$-Studenta o $n_1+n_2-2$ stopniach swobody. Obszar krytyczny --- w zależności od przyjętej hipotezy alternatywnej --- ma postać\n",
    "\\begin{equation*}\n",
    "    \\begin{split}\n",
    "        W_{\\alpha} &= (-\\infty, -t_{1-\\frac{\\alpha}{2}}^{[n_1+n_2-2]}]\\cup[t_{1-\\frac{\\alpha}{2}}^{[n_1+n_2-2]}, +\\infty),\\\\\n",
    "        W_{\\alpha}^{'} &= (-\\infty, -t_{1-\\alpha}^{[n_1+n_2-2]}],\\\\\n",
    "        W_{\\alpha}^{''} &=[t_{1-\\alpha}^{[n_1+n_2-2]}, +\\infty].\n",
    "    \\end{split}\n",
    "\\end{equation*}"
   ]
  },
  {
   "cell_type": "markdown",
   "metadata": {
    "id": "XjaSj04kaApD"
   },
   "source": [
    "**Zadanie - model 2.**  Zbadano dwie partie próbek 100 gramowych wątroby ze względu na zawartość węglowodanów. Zawartości węglowodanów dla I partii próbek (w g) były następujące: 15, 17, 16, 17, 18,5, 18, 17,5. Dla II partii liczącej $n=10$ próbek średnia zawartość węglowodanów wynosi $\\overline{Y}=15,5$g i odchylenie standardowe $S_2=1,1$g. Na poziomie istotności $\\alpha=0.05$ zweryfikować hipotezę, że badane partie próbek pochodzą z populacji generalnych o tej samej średniej zawartości węglowodanów."
   ]
  },
  {
   "cell_type": "code",
   "execution_count": 5,
   "metadata": {
    "colab": {
     "base_uri": "https://localhost:8080/"
    },
    "executionInfo": {
     "elapsed": 206,
     "status": "ok",
     "timestamp": 1683464705494,
     "user": {
      "displayName": "Krzysztof Rudaś",
      "userId": "02080427901267625380"
     },
     "user_tz": -120
    },
    "id": "OWNldunnaApD",
    "outputId": "2d5f6e66-a619-46f8-f4e0-b60c2c3068cf"
   },
   "outputs": [
    {
     "name": "stdout",
     "output_type": "stream",
     "text": [
      "1.1902380714238083\n"
     ]
    }
   ],
   "source": [
    "# H0: mu1 = mu2\n",
    "# H1: mu1 != mu2\n",
    "\n",
    "X = [15, 17, 16, 17, 18.5, 18, 17.5]\n",
    "n1 = len(X)\n",
    "X_mean = np.mean(X)\n",
    "X_std = np.std(X, ddof=1)\n",
    "print(X_std)"
   ]
  },
  {
   "cell_type": "code",
   "execution_count": 6,
   "metadata": {
    "colab": {
     "base_uri": "https://localhost:8080/"
    },
    "executionInfo": {
     "elapsed": 203,
     "status": "ok",
     "timestamp": 1683464707661,
     "user": {
      "displayName": "Krzysztof Rudaś",
      "userId": "02080427901267625380"
     },
     "user_tz": -120
    },
    "id": "U6gnvsTSaApD",
    "outputId": "1fbd340d-ec81-4fbc-adcc-7b36c9add44f"
   },
   "outputs": [
    {
     "name": "stdout",
     "output_type": "stream",
     "text": [
      "Wartość statystyki testowej T: 2.68\n",
      "Obszar krytyczny: (-inf, -2.131449545559323) (2.131449545559323, inf)\n"
     ]
    }
   ],
   "source": [
    "n2 = 10\n",
    "Y_mean = 15.5\n",
    "Y_std = 1.1\n",
    "\n",
    "alpha = 0.05\n",
    "\n",
    "t = (X_mean - Y_mean) / np.sqrt((1 / n1 + 1 / n2) * ((n1 - 1) * X_std ** 2 + (n2 - 1) * Y_std ** 2) / (n1 + n2 - 2))\n",
    "print(\"Wartość statystyki testowej T: {}\".format(np.round(t, 2)))\n",
    "\n",
    "ta = stats.t.ppf(1 - alpha / 2, df = n1 + n2 - 2)\n",
    "print(\"Obszar krytyczny: {} {}\".format((-np.Inf, -ta), (ta, np.Inf)))\n",
    "\n",
    "#jesteśmy w obszarze krytycznym - jest różnica"
   ]
  },
  {
   "cell_type": "code",
   "execution_count": 7,
   "metadata": {
    "colab": {
     "base_uri": "https://localhost:8080/"
    },
    "executionInfo": {
     "elapsed": 191,
     "status": "ok",
     "timestamp": 1683464718155,
     "user": {
      "displayName": "Krzysztof Rudaś",
      "userId": "02080427901267625380"
     },
     "user_tz": -120
    },
    "id": "wqDiIZGn36_0",
    "outputId": "5c8ce9b4-6010-40c3-d2a1-ba150ebfcc22"
   },
   "outputs": [
    {
     "data": {
      "text/plain": [
       "0.01722987481453364"
      ]
     },
     "execution_count": 7,
     "metadata": {},
     "output_type": "execute_result"
    }
   ],
   "source": [
    "pval = 2 * (1 - stats.t.cdf(np.abs(t),df=n1+n2-2))\n",
    "pval\n",
    "#p-value to potwierdza"
   ]
  },
  {
   "cell_type": "markdown",
   "metadata": {
    "id": "6YtCRNBIaApD"
   },
   "source": [
    "**Zadanie - model 2.** Badano grubość płytek metalowych przed i po obróbce chemicznej. Dla 10 losowo wybranych płytek przed obróbką otrzymano średnią z próby 0.451 mm i wariancję z próby 0.02. Natomiast dla 15 losowo wybranych płytek po obróbce chemicznej otrzymano średnią z próby 0.550 mm z wariancją 0.017. Sprawdzić, czy grubość płytek zmienia się podczas obróbki. Założyć, że grubość płytek przed i po obróbce ma rozkład normalny o tej samej wariancji. Przyjąć poziom istotności 0.05."
   ]
  },
  {
   "cell_type": "code",
   "execution_count": null,
   "metadata": {
    "colab": {
     "base_uri": "https://localhost:8080/"
    },
    "executionInfo": {
     "elapsed": 2,
     "status": "ok",
     "timestamp": 1678059312338,
     "user": {
      "displayName": "Krzysztof Rudaś",
      "userId": "02080427901267625380"
     },
     "user_tz": -60
    },
    "id": "PWxE5k64aApD",
    "outputId": "75442d77-645e-480c-f30a-6a6f16dc77e9"
   },
   "outputs": [
    {
     "name": "stdout",
     "output_type": "stream",
     "text": [
      "1.1338934190276817\n",
      "Wartość statystyki testowej T: -1.8\n",
      "Obszar krytyczny: (-inf, -2.0686576104190406) (2.0686576104190406, inf)\n"
     ]
    }
   ],
   "source": [
    "n1 = 10\n",
    "X_mean = 0.451\n",
    "X_var = 0.02\n",
    "print(X_std)\n",
    "\n",
    "n2 = 15\n",
    "Y_mean = 0.550\n",
    "Y_var = 0.017\n",
    "\n",
    "alpha = 0.05\n",
    "\n",
    "l = (X_mean - Y_mean) \n",
    "m = (n1 - 1) * X_var + (n2 - 1) * Y_var\n",
    "m *= (1 / n1) + (1 / n2)\n",
    "m /=  (n1 + n2 - 2)\n",
    "m = np.sqrt(m)\n",
    "\n",
    "t = l / m\n",
    "print(\"Wartość statystyki testowej T: {}\".format(np.round(t, 2)))\n",
    "\n",
    "ta = stats.t.ppf(1 - alpha / 2, df = n1 + n2 - 2)\n",
    "print(\"Obszar krytyczny: {} {}\".format((-np.Inf, -ta), (ta, np.Inf)))\n",
    "\n",
    "#jesteśmy poza obszarem krytycznym, nie odrzucamy H0, są porównywalne"
   ]
  },
  {
   "cell_type": "code",
   "execution_count": null,
   "metadata": {
    "colab": {
     "base_uri": "https://localhost:8080/"
    },
    "executionInfo": {
     "elapsed": 344,
     "status": "ok",
     "timestamp": 1678059315491,
     "user": {
      "displayName": "Krzysztof Rudaś",
      "userId": "02080427901267625380"
     },
     "user_tz": -60
    },
    "id": "ryP5xEGg4hk4",
    "outputId": "426a7fb8-b5f5-465c-8cfa-352278b6be47"
   },
   "outputs": [
    {
     "data": {
      "text/plain": [
       "0.08518514056867965"
      ]
     },
     "execution_count": 174,
     "metadata": {},
     "output_type": "execute_result"
    }
   ],
   "source": [
    "pval = 2 * (1 - stats.t.cdf(np.abs(t),df=n1+n2-2))\n",
    "pval\n",
    "#p-value to potwierdza"
   ]
  },
  {
   "cell_type": "markdown",
   "metadata": {
    "id": "8-73TxGdaApD"
   },
   "source": [
    "## Test dla dwóch prób niezależnych - model 3\n",
    "Załóżmy, że próby $X_1, \\ldots, X_{n_1}$ i $Y_1, \\ldots, Y_{n_2}$ są niezależne i pochodzą z populacji  o nieznanych i różnych odchyleniach standardowych $\\sigma_1$ i $\\sigma_2$, tzn. $\\sigma_1\\neq\\sigma_2$. Ponadto, próby są dostatecznie **duże**.\n",
    "\n",
    "Wówczas statystyka testowa ma postać\n",
    "\\begin{equation*}\n",
    "    T = \\frac{\\overline{X} - \\overline{Y}}{\\sqrt{\\frac{S_1^2}{n_1} + \\frac{S_2^2}{n_2}}}.\n",
    "\\end{equation*}\n",
    "Statystyka przy założeniu prawdziwości hipotezy zerowej $H_0$ ma rozkład normalny standardowy. Obszar krytyczny ma postać\n",
    "\\begin{equation*}\n",
    "    \\begin{split}\n",
    "        W_{\\alpha} &= (-\\infty, -z_{1-\\frac{\\alpha}{2}}]\\cup[z_{1-\\frac{\\alpha}{2}}, +\\infty),\\\\\n",
    "        W_{\\alpha}^{'} &= (-\\infty, -z_{1-\\alpha}],\\\\\n",
    "        W_{\\alpha}^{''} &=[z_{1-\\alpha}, +\\infty].\n",
    "    \\end{split}\n",
    "\\end{equation*}"
   ]
  },
  {
   "cell_type": "markdown",
   "metadata": {
    "id": "xPROxlQOaApE"
   },
   "source": [
    "**Zadanie - model 3.** Wylosowana do badań budżetów rodzinnych w pewnym roku próba 120 rodzin zamieszkałych w Warszawie dała średnią 800 zł miesięcznych wydatków na mieszkanie oraz ochylenie standardowe 120 zł. Natomiast losowa próba 100 rodzin zamieszkałych w Łodzi dała średnią 650 zł miesięcznych wydatków na mieszkanie oraz odchylenie standardowe 150 zł. Przyjmując poziom istotności 0.01 zweryfikować hipotezę o jednakowych średnich wydatkach na mieszkanie rodzin w Warszawie i w Łodzi."
   ]
  },
  {
   "cell_type": "markdown",
   "metadata": {
    "id": "h1t8CcxuaApE"
   },
   "source": [
    "$X$ - zmienna losowa, opisująca miesięczne wydatki na mieszkanie w Warszawie,\n",
    "\n",
    "$Y$ - zmienna losowa, opisująca miesięczne wydatki na mieszkanie w Łodzi,\n",
    "\n",
    "\n",
    "Testujemy hipoteze:\n",
    "$$\n",
    "    \\begin{equation*}\n",
    "    \\begin{split}\n",
    "        H_0: \\mu_1 &= \\mu_2\\\\\n",
    "        H_1: \\mu_1 &\\neq\\mu_2,\n",
    "    \\end{split}\n",
    "    \\end{equation*}\n",
    "$$\n",
    "na poziomie istotności $\\alpha=0.01$."
   ]
  },
  {
   "cell_type": "code",
   "execution_count": null,
   "metadata": {
    "colab": {
     "base_uri": "https://localhost:8080/"
    },
    "executionInfo": {
     "elapsed": 356,
     "status": "ok",
     "timestamp": 1678059556701,
     "user": {
      "displayName": "Krzysztof Rudaś",
      "userId": "02080427901267625380"
     },
     "user_tz": -60
    },
    "id": "V-lxKFv-aApE",
    "outputId": "a6c77d35-c78a-4f6e-e8d1-78355d1263bb"
   },
   "outputs": [
    {
     "name": "stdout",
     "output_type": "stream",
     "text": [
      "Wartość statystyki testowej T: 8.08\n",
      "P-value: 6.661338147750939e-16\n"
     ]
    }
   ],
   "source": [
    "n1 = 120\n",
    "n2 = 100 # proby dostatecznie duze\n",
    "\n",
    "X_mean = 800\n",
    "X_std = 120\n",
    "\n",
    "Y_mean = 650\n",
    "Y_std = 150\n",
    "\n",
    "t = (X_mean - Y_mean) / np.sqrt(X_std**2 / n1 + Y_std**2 / n2)\n",
    "print(\"Wartość statystyki testowej T: {}\".format(np.round(t, 2)))\n",
    "\n",
    "# P(|T|>|t|) = 2*(1-CDF(|t|))\n",
    "pval = 2 * (1 - stats.norm.cdf(x = np.abs(t), loc=0, scale=1))\n",
    "print(\"P-value: {}\".format(pval)) \n",
    "\n",
    "\n",
    "# pvalue < 0.01, mamy podstawy do odrzucenia hipotezy zerowej\n",
    "# na poziomie istotności 0.01, średnia miesięczne wydatki na mieszkanie istotnie różnią się \n",
    "# w Warszawie i w Łodzi"
   ]
  },
  {
   "cell_type": "code",
   "execution_count": null,
   "metadata": {
    "colab": {
     "base_uri": "https://localhost:8080/"
    },
    "executionInfo": {
     "elapsed": 375,
     "status": "ok",
     "timestamp": 1678059559054,
     "user": {
      "displayName": "Krzysztof Rudaś",
      "userId": "02080427901267625380"
     },
     "user_tz": -60
    },
    "id": "L96zIiE37WrO",
    "outputId": "39a97906-8104-4cc2-f133-e8ce1a9eaa0d"
   },
   "outputs": [
    {
     "name": "stdout",
     "output_type": "stream",
     "text": [
      "Obszar krytyczny: (-inf, -2.5758293035489004) (2.5758293035489004, inf)\n"
     ]
    }
   ],
   "source": [
    "alpha=0.01\n",
    "z = stats.norm.ppf(1 - alpha / 2)\n",
    "print(\"Obszar krytyczny: {} {}\".format((-np.Inf, -z), (z, np.Inf)))\n",
    "#statystyka w obszarze krytycznym - odrzucamy"
   ]
  },
  {
   "cell_type": "markdown",
   "metadata": {
    "id": "JlguZnAQaApE"
   },
   "source": [
    "**Zadanie - model 3.** Porównano średnie ocen uzyskanych w ciągu ostatniego roku przez studentów dwóch równoległych lat informatyki i matematyki. Dla wydziału Informatyki średnia wyniosła 4.1 z wariancją 1.8, natomiast dla Wydziału Matematyki średnia wyniosła 3.6 z wariancją 2. Powyższe wyniki obliczono na podstawie 250 ocen uzyskanych przez studentów informatyki i 200 ocen studentów matematyki. Na poziomie istotności 0.05 zweryfikować hipotezę, że przeciętne wyniki osiągane przez studentów informatyki są lepsze od przeciętnych wyników studentów matematyki."
   ]
  },
  {
   "cell_type": "code",
   "execution_count": null,
   "metadata": {
    "colab": {
     "base_uri": "https://localhost:8080/"
    },
    "executionInfo": {
     "elapsed": 354,
     "status": "ok",
     "timestamp": 1678059561195,
     "user": {
      "displayName": "Krzysztof Rudaś",
      "userId": "02080427901267625380"
     },
     "user_tz": -60
    },
    "id": "i3M_ccA9aApE",
    "outputId": "8e18c37e-5867-486e-b942-c8d8154a8718"
   },
   "outputs": [
    {
     "name": "stdout",
     "output_type": "stream",
     "text": [
      "Wartość statystyki testowej T: 3.81\n",
      "P-value: 6.879406516269171e-05\n"
     ]
    }
   ],
   "source": [
    "n1 = 250\n",
    "n2 = 200 # proby dostatecznie duze\n",
    "\n",
    "X_mean = 4.1\n",
    "X_var = 1.8\n",
    "\n",
    "Y_mean = 3.6\n",
    "Y_var = 2\n",
    "\n",
    "t = (X_mean - Y_mean) / np.sqrt(X_var / n1 + Y_var / n2)\n",
    "print(\"Wartość statystyki testowej T: {}\".format(np.round(t, 2)))\n",
    "\n",
    "# P(|T|>|t|) = 2*(1-CDF(|t|))\n",
    "pval = 1 - stats.norm.cdf(x = t, loc=0, scale=1)\n",
    "print(\"P-value: {}\".format(pval)) \n",
    "\n",
    "# pvalue < 0.05, mamy podstawy do odrzucenia hipotezy zerowej"
   ]
  },
  {
   "cell_type": "code",
   "execution_count": null,
   "metadata": {
    "colab": {
     "base_uri": "https://localhost:8080/"
    },
    "executionInfo": {
     "elapsed": 476,
     "status": "ok",
     "timestamp": 1678059563490,
     "user": {
      "displayName": "Krzysztof Rudaś",
      "userId": "02080427901267625380"
     },
     "user_tz": -60
    },
    "id": "q7Yzk1c47lxm",
    "outputId": "7a388031-b7cc-4708-d2f4-02b6c1e21198"
   },
   "outputs": [
    {
     "name": "stdout",
     "output_type": "stream",
     "text": [
      "Obszar krytyczny: (1.6448536269514722, inf)\n"
     ]
    }
   ],
   "source": [
    "alpha=0.05\n",
    "z = stats.norm.ppf(1 - alpha )\n",
    "print(\"Obszar krytyczny: ({}, {})\".format(z, np.Inf))\n",
    "#statystyka w obszarze krytycznym - odrzucamy"
   ]
  },
  {
   "cell_type": "markdown",
   "metadata": {
    "id": "cpZ7clLEaApE"
   },
   "source": [
    "## Testy dla wskaźnika struktury\n",
    "Zakładamy, że próba pochodzi z rozkładu dwupunktowego. Weryfikowana hipoteza dotyczy nieznanego parametru $p$\n",
    "\\begin{equation*}\n",
    "    H_0: p = p_0,\n",
    "\\end{equation*}\n",
    "wobec jednej z trzech hipotez alternatywnych\n",
    "\\begin{equation*}\n",
    "    \\begin{split}\n",
    "        H_1&: p \\neq p_0\\\\\n",
    "        H_1'&: p < p_0\\\\\n",
    "        H_1''&:p > p_0.\n",
    "    \\end{split}\n",
    "\\end{equation*}\n",
    "\n",
    "Do weryfikacji hipotezy $H_0$ wykorzystujemy wskaźnik struktury z próby \n",
    "\\begin{equation*}\n",
    "    \\hat{p} = \\frac{k}{n},\n",
    "\\end{equation*}\n",
    "gdzie $k$ jest liczbą elementów wyróżnionych w próbie o liczności $n$.\n"
   ]
  },
  {
   "cell_type": "markdown",
   "metadata": {
    "id": "fWER5B2qaApE"
   },
   "source": [
    "## Test dla wskaźnika struktury - model 1\n",
    "Jeżeli dysponujemy liczbą próbką $(n\\geq 100)$, wówczas statystyka testowa ma postać \n",
    "\\begin{equation*}\n",
    "    T = \\frac{k - np_0}{\\sqrt{np_0(1-p_0)}}.\n",
    "\\end{equation*}\n",
    "Na podstawie centralnego twierdzenia granicznego Moivre'a-Laplace'a wiemy, że statystyka $T$ ma w przybliżeniu rozkład $\\mathcal{N}(0, 1)$. Obszar krytyczny --- w zależności od przyjętej hipotezy alternatywnej --- ma postać\n",
    "\\begin{equation*}\n",
    "    \\begin{split}\n",
    "        W_{\\alpha} &= (-\\infty, -z_{1-\\frac{\\alpha}{2}}]\\cup[z_{1-\\frac{\\alpha}{2}}, +\\infty),\\\\\n",
    "        W_{\\alpha}^{'} &= (-\\infty, -z_{1-\\alpha}],\\\\\n",
    "        W_{\\alpha}^{''} &=[z_{1-\\alpha}, +\\infty].\n",
    "    \\end{split}\n",
    "\\end{equation*}\n"
   ]
  },
  {
   "cell_type": "markdown",
   "metadata": {
    "id": "6H0tqzE6aApE"
   },
   "source": [
    "**Zadanie - model 1.** Umieralność na skutek drugiego zawału wynosi około 60%. Grupie studwudziestu pacjentom, którzy przeżyli zawał zaczęto podawać nowy lek. Dwudziestu z nich zmarło wskutek drugiego zawału. Czy można orzec, że nowy lek jest skuteczniejszy od stosowanych do tej pory? Przyjąć poziom istotności 0.05"
   ]
  },
  {
   "cell_type": "markdown",
   "metadata": {
    "id": "EE9atHR9aApE"
   },
   "source": [
    "$X$ - zmienna losowa, opisująca liczbe pacjentow po pierwszym zawale przyjmujących nowy lek, którzy zmarli wskutek drugiego zawału, $X\\sim\\text{Bin}(n=120, p=?)$.\n",
    "\n",
    "Testujemy hipoteze:\n",
    "    \\begin{equation*}\n",
    "    \\begin{split}\n",
    "        H_0: p &= 0.6\\\\\n",
    "        H_1: p &< 0.6,\n",
    "    \\end{split}\n",
    "    \\end{equation*}\n",
    "na poziomie istotności $\\alpha=0.05$."
   ]
  },
  {
   "cell_type": "code",
   "execution_count": null,
   "metadata": {
    "colab": {
     "base_uri": "https://localhost:8080/"
    },
    "executionInfo": {
     "elapsed": 346,
     "status": "ok",
     "timestamp": 1678059567623,
     "user": {
      "displayName": "Krzysztof Rudaś",
      "userId": "02080427901267625380"
     },
     "user_tz": -60
    },
    "id": "otJ2gtN2aApF",
    "outputId": "2053ea73-76f2-45f7-e0a8-c7f40c12fdd5"
   },
   "outputs": [
    {
     "name": "stdout",
     "output_type": "stream",
     "text": [
      "Wartość statystyki testowej T: -9.69\n",
      "P-value: 1.6687117023288663e-22\n"
     ]
    }
   ],
   "source": [
    "n = 120\n",
    "k = 20\n",
    "p0 = 0.6\n",
    "\n",
    "t = (k - n * p0) / np.sqrt(n * p0 * (1 - p0))\n",
    "print(\"Wartość statystyki testowej T: {}\".format(np.round(t, 2)))\n",
    "\n",
    "# P(T<t) = CDF(t)\n",
    "pval = stats.norm.cdf(x = t, loc=0, scale=1)\n",
    "print(\"P-value: {}\".format(pval))\n",
    "\n",
    "# pval < 0.05, mamy podstawy do odrzucenia hipotezy zerowej \n",
    "# na poziomie istotności 0.05, przyjmujemy, że nowy lek istotnie skuteczniejszy od leków stosowanych do tej pory"
   ]
  },
  {
   "cell_type": "code",
   "execution_count": null,
   "metadata": {
    "colab": {
     "base_uri": "https://localhost:8080/"
    },
    "executionInfo": {
     "elapsed": 827,
     "status": "ok",
     "timestamp": 1678059570311,
     "user": {
      "displayName": "Krzysztof Rudaś",
      "userId": "02080427901267625380"
     },
     "user_tz": -60
    },
    "id": "AQNcr6rX8NFN",
    "outputId": "fd56794c-c6ad-4f25-fe7f-317ff9214c78"
   },
   "outputs": [
    {
     "name": "stdout",
     "output_type": "stream",
     "text": [
      "Obszar krytyczny: (-inf, -1.6448536269514722)\n"
     ]
    }
   ],
   "source": [
    "alpha=0.05\n",
    "z = stats.norm.ppf(1 - alpha )\n",
    "print(\"Obszar krytyczny: ({}, {})\".format(-np.Inf, -z))\n",
    "#statystyka w obszarze krytycznym - odrzucamy"
   ]
  },
  {
   "cell_type": "markdown",
   "metadata": {
    "id": "kfR956_WaApF"
   },
   "source": [
    "**Zadanie - model 1.** W losowej próbie 500 mieszkańców pewnego rejonu będących w wieku produkcyjnym znalazło się 126 bezrobotnych. Czy na poziomie istotności 0,05 można stwierdzić, że stopa bezrobocia w tym rejonie jest większa od 20%?"
   ]
  },
  {
   "cell_type": "code",
   "execution_count": null,
   "metadata": {
    "colab": {
     "base_uri": "https://localhost:8080/"
    },
    "executionInfo": {
     "elapsed": 362,
     "status": "ok",
     "timestamp": 1678059572511,
     "user": {
      "displayName": "Krzysztof Rudaś",
      "userId": "02080427901267625380"
     },
     "user_tz": -60
    },
    "id": "KU70e3B3aApF",
    "outputId": "1340c8a9-f23c-478f-e93a-d0b6e8efd8d7"
   },
   "outputs": [
    {
     "name": "stdout",
     "output_type": "stream",
     "text": [
      "Wartość statystyki testowej T: 2.91\n",
      "P-value: 0.0018252172022209523\n"
     ]
    }
   ],
   "source": [
    "# H0 : p = 0.2\n",
    "# H1: p > 0.2\n",
    "\n",
    "\n",
    "n = 500\n",
    "k = 126\n",
    "p0 = 0.2\n",
    "\n",
    "t = (k - n * p0) / np.sqrt(n * p0 * (1 - p0))\n",
    "print(\"Wartość statystyki testowej T: {}\".format(np.round(t, 2)))\n",
    "\n",
    "# P(T>t) = 1 - CDF(t)\n",
    "pval = 1 - stats.norm.cdf(x = t, loc=0, scale=1)\n",
    "print(\"P-value: {}\".format(pval))\n",
    "#odrzucamy H0 na rzecz H1, tak jest istotnie większa"
   ]
  },
  {
   "cell_type": "code",
   "execution_count": null,
   "metadata": {
    "colab": {
     "base_uri": "https://localhost:8080/"
    },
    "executionInfo": {
     "elapsed": 382,
     "status": "ok",
     "timestamp": 1678059574777,
     "user": {
      "displayName": "Krzysztof Rudaś",
      "userId": "02080427901267625380"
     },
     "user_tz": -60
    },
    "id": "8pNcg91j8YS1",
    "outputId": "21629b2e-3c25-40bc-a3cc-924f42e344fa"
   },
   "outputs": [
    {
     "name": "stdout",
     "output_type": "stream",
     "text": [
      "Obszar krytyczny: (1.6448536269514722, inf)\n"
     ]
    }
   ],
   "source": [
    "alpha=0.05\n",
    "z = stats.norm.ppf(1 - alpha )\n",
    "print(\"Obszar krytyczny: ({}, {})\".format(z, np.Inf))\n",
    "#statystyka w obszarze krytycznym - odrzucamy"
   ]
  },
  {
   "cell_type": "markdown",
   "metadata": {
    "id": "g3f3bURRaApF"
   },
   "source": [
    "### Zadania\n",
    "1. Automat wytwarza tabliczki czekolady o nominalnej wadze 250g. Wiadomo, że rozkład wagi produkowanych tabliczek jest normalny z odchyleniem standardowym 5g. Kontrola techniczna pobrała próbę losową 16 tabliczek czekolady i otrzymała średnią wagę tabliczki równą 244g. Czy można na tej podstawie stwierdzić, że automat się rozregulował i zaniża wagę tabliczek? Zweryfikować odpowiedniąhipotezę na poziomie istotności 0.05.\n",
    "\n",
    "2.  Zbadano $n=140$ wylosowanych gospodarstw domowych w pewnym mieście ze względu na wysokość miesięcznych opłat za energię elektryczną. Spośród nich 84 gospodarstwa domowe płaciły miesięcznie za energię co najmniej 80 zł. Czy na poziomie istotności $\\alpha=0,05$ można stwierdzić, że procent gospodarstw domowych, których miesięczne opłaty za energię elektryczną wynosiły co najmniej 80 zł jest mniejszy niż 70%?\n",
    "\n",
    "3. Fabryka zakupiła nowy agregat. Producent zapewnia, że przeciętnie tylko jeden na 100 wyprodukowanych przez ten agregat detali jest wadliwy. Aby to sprawdzić, wylosowano 500 detali i okazało się, że 20 z nich nie spełnia normy jakości. Czy na podstawie takiego wyniku badań można obalić zapewnienie producenta agregatu? Przyjąć poziom istotności 0.1.\n",
    "\n",
    "4. W wyniku obserwacji dziennej liczby zakupów dokonywanych przez gospodarstwa domowe w mieście i na wsi ustalono, że liczby zakupów mają rozkład normalny z odchyleniami standardowymi, równymi odpowiednio, 6 i 3. Wybrano 16 gospodarst domowych w mieście i otrzymano średnią liczbę zakupów równą 20, a dla 9 gospodarstw domowych na wsi otrzymano średnią liczbę zakupów równą 16. Przyjmując poziom istotności 0.01, sprawdzić hipotezę, że średnia liczba zakupów dokonywanych dziennie przez rodziny na wsi jest mniejsza niż średnia liczba zakupów dokonywanych przez rodziny w mieście.\n",
    "\n",
    "5. Producent kondensatorów twierdzi, że mają one przeciętną pojemność 4.5 pF. Istnieje podejrzenie, że producent nieuczciwie zawyża tę wartość. Zakładając, że pojemność jest zmienną losową o rozkładzie normalnym $\\mathcal{N}(\\mu, 0.1)$, na poziomie istotności $\\alpha=0.1$, stawiając odpowiednią hipotezę sprawdzić, czy podejrzenie jest zasadne. W obliczeniach uwzględnić, że w wyniku 10 pomiarów pojemności kondensatorów otrzymano $\\overline{X}=4.47$pF. \n",
    "\n",
    "6. Producent  luksusowych  wyrobów  żywności  ekologicznej  twierdzi,  iż  średnia  zawartość bezwartościowych  substancji  w  opakowaniu  jego  wyrobu  nie  przekracza  1  mg  w  całej produkcji.  Zbadano  próbę  prostą  100  opakowań  jego  produktu.  Średnia  zawartość bezwartościowych  substancji  otrzymana  na  podstawie  100  elementowej  próby  prostej wyniosła  1,45  mg,  natomiast  wariancja  9  (mg$^2$). Przy  poziomie  istotności $\\alpha=0.01$ zweryfikować  hipotezę  zerową  mówiącą  o  tym,  ze  średnia  zawartość  bezwartościowych substancji  w  opakowaniu wyrobu tego producenta w całej produkcji wynosi 1 mg wobec hipotezy alternatywnej mówiącej o tym, że jest ona wyższa. Zakładamy, że rozkłąd zawartości bezwartościowych substancji w opakowaniu jest normalny."
   ]
  },
  {
   "cell_type": "markdown",
   "metadata": {
    "id": "bDgB25CFaApF"
   },
   "source": [
    "### Odpowiedzi"
   ]
  },
  {
   "cell_type": "code",
   "execution_count": null,
   "metadata": {
    "colab": {
     "base_uri": "https://localhost:8080/"
    },
    "executionInfo": {
     "elapsed": 362,
     "status": "ok",
     "timestamp": 1662159809953,
     "user": {
      "displayName": "Krzysztof Rudaś",
      "userId": "02080427901267625380"
     },
     "user_tz": -120
    },
    "id": "ihKuphNLaApF",
    "outputId": "ba151a69-7bc5-47b3-8369-e36a445de26b"
   },
   "outputs": [
    {
     "name": "stdout",
     "output_type": "stream",
     "text": [
      "Wartość statystyki testowej T: -4.8\n",
      "Obszar krytyczny: (-inf, -1.6448536269514722)\n"
     ]
    }
   ],
   "source": [
    "# 1)\n",
    "\n",
    "# H0: mu = 250\n",
    "# H1: mu < 250\n",
    "\n",
    "n = 16\n",
    "mu0 = 250\n",
    "X_mean = 244\n",
    "sigma = 5\n",
    "alpha = 0.05\n",
    "\n",
    "T = np.sqrt(n) * (X_mean - mu0) / sigma\n",
    "print(\"Wartość statystyki testowej T: {}\".format(np.round(T, 2)))\n",
    "\n",
    "# wyznaczyć obszar krytyczny \n",
    "z = stats.norm.ppf(q=1-alpha, loc=0, scale=1)\n",
    "\n",
    "critical = (-np.Inf, -z)\n",
    "print(\"Obszar krytyczny: {}\".format(critical))\n",
    "\n",
    "# wniosek: wartosc statystyki testowej należy do obszaru krytycznego\n",
    "# ma poziomie istotności mamy podstawy do odrzucenia hipotezy zerowej, \n",
    "# automat istotnie zaniża wage tabliczki czekolady"
   ]
  },
  {
   "cell_type": "code",
   "execution_count": null,
   "metadata": {
    "colab": {
     "base_uri": "https://localhost:8080/"
    },
    "executionInfo": {
     "elapsed": 372,
     "status": "ok",
     "timestamp": 1662159823237,
     "user": {
      "displayName": "Krzysztof Rudaś",
      "userId": "02080427901267625380"
     },
     "user_tz": -120
    },
    "id": "6Irv0mvQaApF",
    "outputId": "148d586c-e103-4c41-b0c7-f071f7116f3d"
   },
   "outputs": [
    {
     "name": "stdout",
     "output_type": "stream",
     "text": [
      "Wartość statystyki testowej T: -2.58\n",
      "P-value: 0.004911637253759624\n"
     ]
    }
   ],
   "source": [
    "# 2)\n",
    "\n",
    "# H0: p = 0.7\n",
    "# H1: p < 0.7\n",
    "\n",
    "p0 = 0.7\n",
    "n = 140\n",
    "k = 84\n",
    "alpha = 0.05\n",
    "\n",
    "t = (k - n * p0) / np.sqrt(n * p0 * (1 - p0))\n",
    "print(\"Wartość statystyki testowej T: {}\".format(np.round(t, 2)))\n",
    "\n",
    "# P(T<t) = CDF(t)\n",
    "pval = stats.norm.cdf(x = t, loc=0, scale=1)\n",
    "print(\"P-value: {}\".format(pval))\n",
    "\n",
    "# pval < 0.05 => mamy podstawy do odrzucenia H0\n",
    "# procent gospodarstw domowych, których miesięczne opłaty za energię elektryczną \n",
    "# wynosiły co najmniej 80 zł jest istotnie mniejszy niż 70%"
   ]
  },
  {
   "cell_type": "code",
   "execution_count": null,
   "metadata": {
    "colab": {
     "base_uri": "https://localhost:8080/"
    },
    "executionInfo": {
     "elapsed": 392,
     "status": "ok",
     "timestamp": 1662159833528,
     "user": {
      "displayName": "Krzysztof Rudaś",
      "userId": "02080427901267625380"
     },
     "user_tz": -120
    },
    "id": "tBF6HpqPaApF",
    "outputId": "5d00d349-3d30-4f0f-efac-ff582f5292cb"
   },
   "outputs": [
    {
     "name": "stdout",
     "output_type": "stream",
     "text": [
      "Wartość statystyki testowej T: 6.74\n",
      "P-value: 1.5622170224105503e-11\n"
     ]
    }
   ],
   "source": [
    "# 3)\n",
    "\n",
    "# H0: p = 0.01\n",
    "# H1: p != 0.01\n",
    "\n",
    "p0 = 0.01\n",
    "n = 500\n",
    "k = 20\n",
    "alpha = 0.1\n",
    "\n",
    "t = (k - n * p0) / np.sqrt(n * p0 * (1 - p0))\n",
    "print(\"Wartość statystyki testowej T: {}\".format(np.round(t, 2)))\n",
    "\n",
    "# P(|T|>|t|) = 2 * (1 - CDF(t))\n",
    "pval = 2 * (1 - stats.norm.cdf(x = np.abs(t), loc=0, scale=1))\n",
    "print(\"P-value: {}\".format(pval))\n",
    "\n",
    "# pvalue > 0.1\n",
    "# na poziomie istotnosci 0.1 mamy podstawy do odrzucenia H0"
   ]
  },
  {
   "cell_type": "code",
   "execution_count": null,
   "metadata": {
    "colab": {
     "base_uri": "https://localhost:8080/"
    },
    "executionInfo": {
     "elapsed": 361,
     "status": "ok",
     "timestamp": 1662159845537,
     "user": {
      "displayName": "Krzysztof Rudaś",
      "userId": "02080427901267625380"
     },
     "user_tz": -120
    },
    "id": "uPsV53whaApG",
    "outputId": "1ecbfd47-e47e-49fc-a56b-997e17c27496"
   },
   "outputs": [
    {
     "name": "stdout",
     "output_type": "stream",
     "text": [
      "Wartość statystyki testowej T: 2.22\n",
      "P-value: 0.013250140301245938\n"
     ]
    }
   ],
   "source": [
    "# 4)\n",
    "\n",
    "\n",
    "# H0: mu1 = mu2\n",
    "# H1: mu1 > mu2\n",
    "\n",
    "n1 = 16\n",
    "sigma1 = 6\n",
    "X_mean = 20\n",
    "\n",
    "n2 = 9\n",
    "sigma2 = 3\n",
    "Y_mean = 16\n",
    "\n",
    "alpha = 0.01\n",
    "\n",
    "t = (X_mean - Y_mean) / np.sqrt((sigma1**2 / n1) + (sigma2**2 / n2))\n",
    "print(\"Wartość statystyki testowej T: {}\".format(np.round(t, 2)))\n",
    "\n",
    "# P(T>t) = 1-CDF(t)\n",
    "pval = 1 - stats.norm.cdf(x = t, loc=0, scale=1)\n",
    "print(\"P-value: {}\".format(pval))\n",
    "\n",
    "# na poziomie istotnosci 0.01 brak podstaw do odrzucenia H0\n",
    "# brak istotnych roznic w średniej liczbie zakupów dokonywanych dziennie przez rodziny na wsi \n",
    "# i średniej liczby zakupów dokonywanych przez rodziny w mieście."
   ]
  },
  {
   "cell_type": "code",
   "execution_count": null,
   "metadata": {
    "colab": {
     "base_uri": "https://localhost:8080/"
    },
    "executionInfo": {
     "elapsed": 392,
     "status": "ok",
     "timestamp": 1662159853990,
     "user": {
      "displayName": "Krzysztof Rudaś",
      "userId": "02080427901267625380"
     },
     "user_tz": -120
    },
    "id": "kbN8lhjJaApG",
    "outputId": "b7337b8b-6dcf-4fda-c15e-85c0dfbdb19c"
   },
   "outputs": [
    {
     "name": "stdout",
     "output_type": "stream",
     "text": [
      "Wartość statystyki testowej T: -0.95\n",
      "Obszar krytyczny: (-inf, -1.2815515655446004)\n"
     ]
    }
   ],
   "source": [
    "# 5)\n",
    "\n",
    "# H0: mu = 4.5\n",
    "# H1: mu < 4.5\n",
    "\n",
    "mu0 = 4.5\n",
    "sigma = 0.1\n",
    "X_mean = 4.47\n",
    "n = 10\n",
    "\n",
    "alpha = 0.1\n",
    "\n",
    "T = np.sqrt(n) * (X_mean - mu0) / sigma\n",
    "print(\"Wartość statystyki testowej T: {}\".format(np.round(T, 2)))\n",
    "\n",
    "# wyznaczyć obszar krytyczny \n",
    "z = stats.norm.ppf(q=1-alpha, loc=0, scale=1)\n",
    "\n",
    "critical = (-np.Inf, -z)\n",
    "print(\"Obszar krytyczny: {}\".format(critical))\n",
    "\n",
    "# statystyka testowa nie należy do obszaru krytycznego\n",
    "# na poziomie istotnosci 0.1 nie mamy podstaw do odrzucenia H0"
   ]
  },
  {
   "cell_type": "code",
   "execution_count": null,
   "metadata": {
    "colab": {
     "base_uri": "https://localhost:8080/"
    },
    "executionInfo": {
     "elapsed": 362,
     "status": "ok",
     "timestamp": 1662159860074,
     "user": {
      "displayName": "Krzysztof Rudaś",
      "userId": "02080427901267625380"
     },
     "user_tz": -120
    },
    "id": "Et1UrY_7aApG",
    "outputId": "6b1780c9-7f0a-422f-9166-77d6e31c3f86"
   },
   "outputs": [
    {
     "name": "stdout",
     "output_type": "stream",
     "text": [
      "Wartość statystyki testowej T: 1.5\n",
      "P-value: 0.06680720126885809\n"
     ]
    }
   ],
   "source": [
    "# 6)\n",
    "\n",
    "# H0: mu = 1\n",
    "# H0: mu > 1\n",
    "\n",
    "n = 100\n",
    "mu0 = 1\n",
    "X_mean = 1.45\n",
    "X_std = 3\n",
    "\n",
    "t = np.sqrt(n) * (X_mean - mu0) / X_std\n",
    "print(\"Wartość statystyki testowej T: {}\".format(np.round(t, 2)))\n",
    "\n",
    "# P(T>t) = 1 - CDF(t)\n",
    "pval = 1 - stats.norm.cdf(x = t, loc=0, scale=1)\n",
    "print(\"P-value: {}\".format(pval))\n",
    "#p-val większe od 0.05 więc przyjmujemy H0, średnia nie przekracza 1 miligrama"
   ]
  }
 ],
 "metadata": {
  "colab": {
   "provenance": []
  },
  "kernelspec": {
   "display_name": ".venv",
   "language": "python",
   "name": "python3"
  },
  "language_info": {
   "codemirror_mode": {
    "name": "ipython",
    "version": 3
   },
   "file_extension": ".py",
   "mimetype": "text/x-python",
   "name": "python",
   "nbconvert_exporter": "python",
   "pygments_lexer": "ipython3",
   "version": "3.12.0"
  }
 },
 "nbformat": 4,
 "nbformat_minor": 0
}
