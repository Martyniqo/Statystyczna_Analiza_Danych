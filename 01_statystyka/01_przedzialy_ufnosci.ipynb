{
 "cells": [
  {
   "cell_type": "markdown",
   "metadata": {
    "id": "k2Er_l6PXalo"
   },
   "source": [
    "# Przedziały ufności"
   ]
  },
  {
   "cell_type": "code",
   "execution_count": 2,
   "metadata": {
    "executionInfo": {
     "elapsed": 1668,
     "status": "ok",
     "timestamp": 1720255493865,
     "user": {
      "displayName": "Krzysztof Rudaś",
      "userId": "02080427901267625380"
     },
     "user_tz": -120
    },
    "id": "kz8gefNnXalr"
   },
   "outputs": [],
   "source": [
    "import numpy as np\n",
    "import matplotlib.pyplot as plt\n",
    "from scipy import stats"
   ]
  },
  {
   "cell_type": "markdown",
   "metadata": {
    "id": "eeVy1_ydXals"
   },
   "source": [
    "## Przedział ufności dla wartości średniej - model 1\n",
    "Niech $X_1, \\ldots, X_n$ będzie próbą prostą z populacji o rozkładzie normalnym $\\mathcal{N}(\\mu, \\sigma)$ o znanej wariancji $\\sigma^2$.\n",
    "\n",
    "Wtedy dla ustalonego poziomu ufności $1-\\alpha$ najkrótszy przedział ufności dla wartości oczekiwanej ma postać\n",
    "$$\n",
    "    \\Bigg( \\overline{X}-z_{1-\\frac{\\alpha}{2}}\\frac{\\sigma}{\\sqrt{n}}, \\overline{X}+z_{1-\\frac{\\alpha}{2}}\\frac{\\sigma}{\\sqrt{n}} \\Bigg),\n",
    "$$\n",
    "gdzie $z_{1-\\frac{\\alpha}{2}}$ oznacza kwantyl rozkładu normalnego standardowego rzędu $1-\\frac{\\alpha}{2}$."
   ]
  },
  {
   "cell_type": "markdown",
   "metadata": {
    "id": "5H3HTL8oXals"
   },
   "source": [
    "**Zadanie - model 1**. Na podstawie 64 losowo wybranych rozmów telefonicznych obliczono średnią długość rozmowy, która wynosiła 4.2 minuty. Z poprzednich badań wiadomo, że wariancja długości rozmów telefonicznych wynosi 1,44 min². Zakładając, że czas rozmów ma rozkład normalny\n",
    "\n",
    "   a) Oszacować przedziałowo długość rozmowy telefonicznej na poziomie ufności 0.95.\n",
    "\n",
    "b) Oszacować przedziałowo długość rozmowy telefonicznej na poziomie ufności 0.99.\n",
    "\n",
    "c) Porównać długość obu wyznaczonych przedziałów i wyjaśnić, w jaki sposób długość przedziału zależy od przyjętego poziomu ufności."
   ]
  },
  {
   "cell_type": "code",
   "execution_count": 4,
   "metadata": {
    "colab": {
     "base_uri": "https://localhost:8080/"
    },
    "executionInfo": {
     "elapsed": 312,
     "status": "ok",
     "timestamp": 1720182421979,
     "user": {
      "displayName": "Krzysztof Rudaś",
      "userId": "02080427901267625380"
     },
     "user_tz": -120
    },
    "id": "0_h-lqMeXalt",
    "outputId": "054b346a-6a1b-4cdd-8ae5-7ec66526a3f2"
   },
   "outputs": [
    {
     "name": "stdout",
     "output_type": "stream",
     "text": [
      "Przedział ufnośći na poziomie ufności 0.95: (np.float64(3.906005402318992), np.float64(4.4939945976810085)), o długości: [0.5879892]\n",
      "\n",
      "Przedział ufnośći na poziomie ufności 0.99: (np.float64(3.8136256044676653), np.float64(4.586374395532335)), o długości: [0.77274879]\n",
      "Poziom ufności się zwiększył, więc przedział ufności jest szerszy.\n"
     ]
    }
   ],
   "source": [
    "## Sposób 1\n",
    "\n",
    "# a)\n",
    "X_mean = 4.2\n",
    "sigma = 1.2 # bo sigma^2 = wariancja = 1.44\n",
    "n = 64\n",
    "alpha1 = 0.05\n",
    "z1 = stats.norm.ppf(q=1 - alpha1 / 2, loc=0, scale=1)\n",
    "\n",
    "interval1 = (X_mean - z1 * sigma / np.sqrt(n), X_mean + z1 * sigma / np.sqrt(n))\n",
    "print(\"Przedział ufnośći na poziomie ufności 0.95: {}, o długości: {}\".format(interval1, np.diff(interval1)))\n",
    "\n",
    "# b)\n",
    "alpha2 = 0.01\n",
    "z2 = stats.norm.ppf(q=1 - alpha2 / 2, loc=0, scale=1)\n",
    "\n",
    "interval2 = (X_mean - z2 * sigma / np.sqrt(n), X_mean + z2 * sigma / np.sqrt(n))\n",
    "print(\"\\nPrzedział ufnośći na poziomie ufności 0.99: {}, o długości: {}\".format(interval2, np.diff(interval2)))\n",
    "print(\"Poziom ufności się zwiększył, więc przedział ufności jest szerszy.\")"
   ]
  },
  {
   "cell_type": "code",
   "execution_count": 6,
   "metadata": {
    "id": "zJ2PgTIaXalt"
   },
   "outputs": [],
   "source": [
    "def interval_confidence1(X_mean, sigma, n, alpha):\n",
    "    \"\"\"\n",
    "    Oblicza przedział ufności dla średniej rozkładu normalnego.\n",
    "    \"\"\"\n",
    "    return stats.norm.interval(confidence=1-alpha, loc=X_mean, scale = sigma/np.sqrt(n))"
   ]
  },
  {
   "cell_type": "code",
   "execution_count": 7,
   "metadata": {
    "colab": {
     "base_uri": "https://localhost:8080/"
    },
    "executionInfo": {
     "elapsed": 311,
     "status": "ok",
     "timestamp": 1720182427623,
     "user": {
      "displayName": "Krzysztof Rudaś",
      "userId": "02080427901267625380"
     },
     "user_tz": -120
    },
    "id": "gansALUSXalu",
    "outputId": "38f5355e-92fd-4150-e487-cb11759e293b"
   },
   "outputs": [
    {
     "name": "stdout",
     "output_type": "stream",
     "text": [
      "(np.float64(3.906005402318992), np.float64(4.4939945976810085))\n",
      "(np.float64(3.8136256044676653), np.float64(4.586374395532335))\n"
     ]
    }
   ],
   "source": [
    "## Sposób 2\n",
    "##`interval(alpha, loc=0, scale=1)` Endpoints of the range that contains alpha percent of the distribution\n",
    "\n",
    "print(stats.norm.interval(confidence=1-alpha1, loc=X_mean, scale = sigma/np.sqrt(n)))\n",
    "print(stats.norm.interval(confidence=1-alpha2, loc=X_mean, scale = sigma/np.sqrt(n)))\n",
    "\n",
    "# drugi szerszy, ponieważ mamy większy poziom ufności"
   ]
  },
  {
   "cell_type": "markdown",
   "metadata": {
    "id": "mrkB5j8UXalu"
   },
   "source": [
    "**Zadanie - model 1.**\n",
    "Średnia cena 100 losowo wybranych książek do nauki programowania wyniosła 120.50 PLN. Wiadomo, ze odchylenie standardowe cen książek wynosi 10.75 PLN. Wyznaczyć 90% przedział ufności dla średniej ceny książki do programowania zakładając, że rozkład cen jest rozkładem normalnym."
   ]
  },
  {
   "cell_type": "code",
   "execution_count": 12,
   "metadata": {},
   "outputs": [
    {
     "name": "stdout",
     "output_type": "stream",
     "text": [
      "Przedział ufnośći na poziomie ufności 0.90: (np.float64(118.73178235102716), np.float64(122.26821764897284)), o długości: [3.5364353]\n"
     ]
    }
   ],
   "source": [
    "X_mean = 120.5\n",
    "sigma = 10.75\n",
    "n = 100\n",
    "alpha = 0.1\n",
    "z1 = stats.norm.ppf(q=1 - alpha1 / 2, loc=0, scale=1)\n",
    "\n",
    "# sposob 1\n",
    "interval1 = (X_mean - z1 * sigma / np.sqrt(n), X_mean + z1 * sigma / np.sqrt(n))\n",
    "print(\"Przedział ufnośći na poziomie ufności 0.90: {}, o długości: {}\".format(interval1, np.diff(interval1)))"
   ]
  },
  {
   "cell_type": "code",
   "execution_count": 11,
   "metadata": {},
   "outputs": [
    {
     "name": "stdout",
     "output_type": "stream",
     "text": [
      "\n",
      "\n",
      "(np.float64(118.73178235102716), np.float64(122.26821764897284))\n"
     ]
    }
   ],
   "source": [
    "# sposob 2\n",
    "print(\"\\n\")\n",
    "print(stats.norm.interval(confidence=1-alpha, loc=X_mean, scale = sigma/np.sqrt(n)))"
   ]
  },
  {
   "cell_type": "markdown",
   "metadata": {
    "id": "feo9_UZyXalv"
   },
   "source": [
    "## Przedział ufności dla wartości średniej - model 2\n",
    "Niech $X_1, \\ldots, X_n$ będzie próbą prostą z populacji o rozkładzie normalnym $\\mathcal{N}(\\mu, \\sigma)$ o nieznanej wariancji $\\sigma^2$.\n",
    "\n",
    "Wtedy dla ustalonego poziomu ufności $1-\\alpha$ najkrótszy przedział ufności dla wartości oczekiwanej ma postać\n",
    "$$\n",
    "    \\Bigg( \\overline{X}-t_{1-\\frac{\\alpha}{2}}^{[n-1]}\\frac{S}{\\sqrt{n}}, \\overline{X}+t_{1-\\frac{\\alpha}{2}}^{[n-1]}\\frac{S}{\\sqrt{n}} \\Bigg),\n",
    "$$\n",
    "gdzie $t_{1-\\frac{\\alpha}{2}}^{[n-1]}$ oznacza kwantyl rzędu $1-\\frac{\\alpha}{2}$ rozkładu $t$-Studenta o $n-1$ stopniach swobody."
   ]
  },
  {
   "cell_type": "markdown",
   "metadata": {
    "id": "lrEdNME_Xalw"
   },
   "source": [
    "**Zadanie 1. - model 2**. Otrzymano następujące wyniki pomiarów grubości (w mm) 10 losowo wylosowanych detali wyprodukowanych przez zakupiony agregat: 2.01, 1.94, 1.94, 2.12, 1.96, 2.03, 1.91, 1.98, 1.97, 2.08. Zakładamy, że rozkład grubości detalu jest normalny. Na poziomie ufności 0.95 podać przedział ufności dla średniej grubości detalu."
   ]
  },
  {
   "cell_type": "code",
   "execution_count": null,
   "metadata": {
    "colab": {
     "base_uri": "https://localhost:8080/"
    },
    "executionInfo": {
     "elapsed": 220,
     "status": "ok",
     "timestamp": 1678052929220,
     "user": {
      "displayName": "Krzysztof Rudaś",
      "userId": "02080427901267625380"
     },
     "user_tz": -60
    },
    "id": "pkPe66tSXalw",
    "outputId": "bb22d5bb-4efa-43db-c1bf-f2f08c264254"
   },
   "outputs": [
    {
     "name": "stdout",
     "output_type": "stream",
     "text": [
      "Średnia artymetyczna: 1.9939999999999998\n",
      "Odchylenie standardowe: 0.06636598861197239\n",
      "Przedział ufnośći na poziomie ufności 0.99: (1.9465246317260556, 2.041475368273944)\n"
     ]
    }
   ],
   "source": [
    "# mu=?, sigma=?\n",
    "# należy wyznaczyć średnią i odchylenie standardowe\n",
    "\n",
    "X = [2.01, 1.94, 1.94, 2.12, 1.96, 2.03, 1.91, 1.98, 1.97, 2.08]\n",
    "X_mean = np.mean(X)\n",
    "print(\"Średnia artymetyczna: {}\".format(X_mean))\n",
    "X_std = np.std(X, ddof=1) # koretka Bessela\n",
    "print(\"Odchylenie standardowe: {}\".format(X_std))\n",
    "\n",
    "n = 10\n",
    "alpha = 0.05\n",
    "t = stats.t.ppf(q=1-alpha/2, df=n-1)\n",
    "\n",
    "interval = (X_mean - t * X_std / np.sqrt(n), X_mean + t * X_std / np.sqrt(n))\n",
    "print(\"Przedział ufnośći na poziomie ufności 0.99: {}\".format(interval))"
   ]
  },
  {
   "cell_type": "code",
   "execution_count": null,
   "metadata": {
    "id": "LYtqeE81Xalw"
   },
   "outputs": [],
   "source": [
    "def interval_confidence2(X_mean, X_std, n, alpha):\n",
    "    return stats.t.interval(confidence=1-alpha, df=n-1, loc=X_mean, scale=X_std / np.sqrt(n))"
   ]
  },
  {
   "cell_type": "code",
   "execution_count": null,
   "metadata": {
    "colab": {
     "base_uri": "https://localhost:8080/"
    },
    "executionInfo": {
     "elapsed": 1,
     "status": "ok",
     "timestamp": 1678052935674,
     "user": {
      "displayName": "Krzysztof Rudaś",
      "userId": "02080427901267625380"
     },
     "user_tz": -60
    },
    "id": "uuSrI98hXalx",
    "outputId": "3abfd508-b1aa-4ee2-dcda-342a344b8aee"
   },
   "outputs": [
    {
     "data": {
      "text/plain": [
       "(1.9465246317260556, 2.041475368273944)"
      ]
     },
     "execution_count": 18,
     "metadata": {},
     "output_type": "execute_result"
    }
   ],
   "source": [
    "stats.t.interval(confidence=1-alpha, df=n-1, loc=X_mean, scale=X_std / np.sqrt(n))"
   ]
  },
  {
   "cell_type": "markdown",
   "metadata": {
    "id": "FzMCNenpXalx"
   },
   "source": [
    "**Zadanie 2.- model 2**.\n",
    "Zmierzono objętości 5 losowo wybranych kulek z partii kulek łożyskowych otrzymując (w cm): 1,24 1,38 1,25 1,17 1,27. Na poziomie ufności 0,9 skonstruować przedział ufności dla średniej objętości kulki. Zakładamy, ze rozkład objętości kulek jest normalny."
   ]
  },
  {
   "cell_type": "code",
   "execution_count": 60,
   "metadata": {},
   "outputs": [
    {
     "name": "stdout",
     "output_type": "stream",
     "text": [
      "Średnia artymetyczna: 1.262\n",
      "Odchylenie standardowe: 0.07596051605933175\n",
      "Przedział ufnośći na poziomie ufności 0.9: (np.float64(1.1895799377844203), np.float64(1.3344200622155797)), o długości: [0.14484012]\n"
     ]
    }
   ],
   "source": [
    "# mu=?, sigma=?\n",
    "# należy wyznaczyć średnią i odchylenie standardowe\n",
    "\n",
    "X = [1.24, 1.38, 1.25, 1.17, 1.27]\n",
    "\n",
    "X_mean = np.mean(X)\n",
    "print(\"Średnia artymetyczna: {}\".format(X_mean))\n",
    "X_std = np.std(X, ddof=1) # koretka Bessela\n",
    "print(\"Odchylenie standardowe: {}\".format(X_std))\n",
    "\n",
    "n = len(X)\n",
    "alpha = 0.1\n",
    "t = stats.t.ppf(q=1-alpha/2, df=n-1)\n",
    "\n",
    "interval = (X_mean - t * X_std / np.sqrt(n), X_mean + t * X_std / np.sqrt(n))\n",
    "print(\"Przedział ufnośći na poziomie ufności 0.9: {}, o długości: {}\".format(interval, np.diff(interval)))\n"
   ]
  },
  {
   "cell_type": "code",
   "execution_count": 43,
   "metadata": {
    "colab": {
     "base_uri": "https://localhost:8080/"
    },
    "executionInfo": {
     "elapsed": 4,
     "status": "ok",
     "timestamp": 1678052950746,
     "user": {
      "displayName": "Krzysztof Rudaś",
      "userId": "02080427901267625380"
     },
     "user_tz": -60
    },
    "id": "E194gbvPXalx",
    "outputId": "49a9da5f-6259-4f4f-b5f3-45f59834157b"
   },
   "outputs": [
    {
     "data": {
      "text/plain": [
       "(np.float64(-2.3903595096629395), np.float64(17.419109509662935))"
      ]
     },
     "execution_count": 43,
     "metadata": {},
     "output_type": "execute_result"
    }
   ],
   "source": [
    "stats.t.interval(confidence=1-alpha, df=n-1, loc=X_mean, scale=X_std / np.sqrt(n))"
   ]
  },
  {
   "cell_type": "markdown",
   "metadata": {},
   "source": [
    "A co gdybyśmy chcieli skorzystać z rozkładu normalnego (model 1) zamiast z rozkładu t-Studenta (model 2)? "
   ]
  },
  {
   "cell_type": "code",
   "execution_count": 61,
   "metadata": {},
   "outputs": [
    {
     "name": "stdout",
     "output_type": "stream",
     "text": [
      "Przedział ufnośći na poziomie ufności 0.9: (np.float64(1.2061233756743832), np.float64(1.3178766243256168)), o długości: [0.11175325]\n"
     ]
    }
   ],
   "source": [
    "z1 = stats.norm.ppf(q=1 - alpha / 2, loc=0, scale=1)\n",
    "\n",
    "interval = (X_mean - z1 * X_std / np.sqrt(n), X_mean + z1 * X_std / np.sqrt(n))\n",
    "print(\"Przedział ufnośći na poziomie ufności 0.9: {}, o długości: {}\".format(interval, np.diff(interval)))"
   ]
  },
  {
   "cell_type": "markdown",
   "metadata": {},
   "source": [
    "🚀 Podsumowanie:\n",
    "* W małych próbach (n <= 30) i przy nieznanej wariancji zawsze należy używać rozkładu t-Studenta (model 2).\n",
    "* Rozkład normalny (model 1) nadaje się tylko dla dużych prób lub gdy znamy wariancję populacji.\n",
    "  \n",
    "🚀 Dlaczego przedział t-Studenta (model 2) jest szerszy?\n",
    "* Nieznana wariancja → większa niepewność.\n",
    "* Mała próba → mniej informacji, większe ryzyko błędu.\n",
    "* Wartości krytyczne t są większe niż z dla małych stopni swobody.\n",
    "* Grubsze ogony rozkładu t → uwzględnienie wartości odstających.\n",
    "\n",
    "**Szerszy przedział daje większą pewność, że prawdziwa wartość średniej populacji znajduje się w obliczonym przedziale.**"
   ]
  },
  {
   "cell_type": "markdown",
   "metadata": {
    "id": "pzugiZxJXalx"
   },
   "source": [
    "## Przedział ufności dla wartości średniej - model 3\n",
    "Niech $X_1, \\ldots, X_n$ będzie dostatecznie dużą próbą ($n\\geq 100)$ o dowolnym rozkładzie o nieznanej, ale skończonej wartości oczekiwanej i wariancji.\n",
    "\n",
    "Wtedy dla ustalonego poziomu ufności $1-\\alpha$ najkrótszy przedział ufności dla wartości oczekiwanej ma postać\n",
    "$$\n",
    "    \\Bigg( \\overline{X}-z_{1-\\frac{\\alpha}{2}}\\frac{S}{\\sqrt{n}}, \\overline{X}+z_{1-\\frac{\\alpha}{2}}\\frac{S}{\\sqrt{n}} \\Bigg),\n",
    "$$\n",
    "gdzie $z_{1-\\frac{\\alpha}{2}}$ oznacza kwantyl rozkładu normalnego standardowego rzędu $1-\\frac{\\alpha}{2}$.\n"
   ]
  },
  {
   "cell_type": "markdown",
   "metadata": {
    "id": "YBDV-9XlXaly"
   },
   "source": [
    "**Zadanie - model 3**. Badania przeprowadzone w maju 1990 roku przez Instytut Gallupa na próbie losowej 2727 dorosłych obywateli USA wykazały, że średnie wydatki gospodarstwa domowego na cele charytatywne w 1989 wyniosły 734\\\\$, podczas gdy wyestymowane odchylenie standardowe tych wydatków dało 185$. Wyznaczyć 99% przedział ufności przeciętnych wydatków na cele charytatywne w USA w 1989 roku."
   ]
  },
  {
   "cell_type": "code",
   "execution_count": 45,
   "metadata": {
    "colab": {
     "base_uri": "https://localhost:8080/"
    },
    "executionInfo": {
     "elapsed": 234,
     "status": "ok",
     "timestamp": 1678052963276,
     "user": {
      "displayName": "Krzysztof Rudaś",
      "userId": "02080427901267625380"
     },
     "user_tz": -60
    },
    "id": "Q8u83J9tXaly",
    "outputId": "59e2876a-a778-433f-fc7c-328b54542fd5"
   },
   "outputs": [
    {
     "name": "stdout",
     "output_type": "stream",
     "text": [
      "Przedział ufnośći na poziomie ufności 0.99: (np.float64(724.8747191639189), np.float64(743.1252808360811))\n"
     ]
    }
   ],
   "source": [
    "# mu=?, sigma=?\n",
    "# brak założenia o normalności rozkladu, ale n dostatecznie duze\n",
    "\n",
    "n = 2727\n",
    "X_mean = 734\n",
    "X_std = 185\n",
    "alpha = 0.01\n",
    "z = stats.norm.ppf(q=1-alpha/2, loc=0, scale=1)\n",
    "\n",
    "interval = (X_mean - z * X_std / np.sqrt(n), X_mean + z * X_std / np.sqrt(n))\n",
    "print(\"Przedział ufnośći na poziomie ufności 0.99: {}\".format(interval))"
   ]
  },
  {
   "cell_type": "code",
   "execution_count": 46,
   "metadata": {
    "id": "_RSUiHXbXaly"
   },
   "outputs": [],
   "source": [
    "def interval_confidence3(X_mean, X_std, n, alpha):\n",
    "    return stats.norm.interval(confidence=1-alpha, loc=X_mean, scale = X_std/np.sqrt(n))"
   ]
  },
  {
   "cell_type": "code",
   "execution_count": 47,
   "metadata": {
    "colab": {
     "base_uri": "https://localhost:8080/"
    },
    "executionInfo": {
     "elapsed": 2,
     "status": "ok",
     "timestamp": 1678052982831,
     "user": {
      "displayName": "Krzysztof Rudaś",
      "userId": "02080427901267625380"
     },
     "user_tz": -60
    },
    "id": "YqLSt7B0Xaly",
    "outputId": "67bf81e5-f11f-4e27-d3df-d903115b2887"
   },
   "outputs": [
    {
     "data": {
      "text/plain": [
       "(np.float64(724.8747191639189), np.float64(743.1252808360811))"
      ]
     },
     "execution_count": 47,
     "metadata": {},
     "output_type": "execute_result"
    }
   ],
   "source": [
    "stats.norm.interval(confidence=1-alpha, loc=X_mean, scale = X_std/np.sqrt(n))"
   ]
  },
  {
   "cell_type": "markdown",
   "metadata": {
    "id": "ZUDyO-5XXaly"
   },
   "source": [
    "**Zadanie - model 3**. W próbie 150 zabiegów artroskopii stawu biodrowego średni czas operacji wynosił 136,9 minut, przy standardowym odchyleniu 22,6 minut. Znajdź średni na poziomie ufności 0.95."
   ]
  },
  {
   "cell_type": "code",
   "execution_count": 48,
   "metadata": {
    "colab": {
     "base_uri": "https://localhost:8080/"
    },
    "executionInfo": {
     "elapsed": 254,
     "status": "ok",
     "timestamp": 1678052986392,
     "user": {
      "displayName": "Krzysztof Rudaś",
      "userId": "02080427901267625380"
     },
     "user_tz": -60
    },
    "id": "AigDd2_fXalz",
    "outputId": "0ce1bc11-99be-4a97-9e12-65d58696bf04"
   },
   "outputs": [
    {
     "name": "stdout",
     "output_type": "stream",
     "text": [
      "Przedział ufnośći na poziomie ufności 0.99: (np.float64(133.28331320381233), np.float64(140.51668679618768))\n"
     ]
    }
   ],
   "source": [
    "n = 150\n",
    "X_mean = 136.9\n",
    "X_std = 22.6\n",
    "alpha = 0.05\n",
    "z = stats.norm.ppf(q=1-alpha/2, loc=0, scale=1)\n",
    "\n",
    "interval = (X_mean - z * X_std / np.sqrt(n), X_mean + z * X_std / np.sqrt(n))\n",
    "print(\"Przedział ufnośći na poziomie ufności 0.99: {}\".format(interval))"
   ]
  },
  {
   "cell_type": "code",
   "execution_count": 49,
   "metadata": {
    "colab": {
     "base_uri": "https://localhost:8080/"
    },
    "executionInfo": {
     "elapsed": 2,
     "status": "ok",
     "timestamp": 1678052993540,
     "user": {
      "displayName": "Krzysztof Rudaś",
      "userId": "02080427901267625380"
     },
     "user_tz": -60
    },
    "id": "muAXmqwXXalz",
    "outputId": "2b9c8d11-b08a-43b6-caef-c893f53f9d28"
   },
   "outputs": [
    {
     "data": {
      "text/plain": [
       "(np.float64(133.28331320381233), np.float64(140.51668679618768))"
      ]
     },
     "execution_count": 49,
     "metadata": {},
     "output_type": "execute_result"
    }
   ],
   "source": [
    "stats.norm.interval(confidence=1-alpha, loc=X_mean, scale = X_std/np.sqrt(n))"
   ]
  },
  {
   "cell_type": "markdown",
   "metadata": {
    "id": "etMoY9zqXalz"
   },
   "source": [
    "## Przedział ufności dla wskaźnika struktury\n",
    "Załóżmy, że badana cecha ma rozkład dwupunktowy z nieznanym parametrem $p$, a liczność próby jest dostatecznie duża $(n\\geq 100)$.\n",
    "\n",
    "Z centralnego twierdzenia granicznego Moivre'a-Laplace'a wynika, że statystyka\n",
    "$$\n",
    "    \\frac{k}{n},\n",
    "$$\n",
    "gdzie $k$ oznacza liczbę elementów wyróżnionych w próbie ma w przybliżeniu rozkład normalny $\\mathcal{N}(p, \\sqrt{\\frac{p(1-p)}{n}})$.\n",
    "\n",
    "Przedział ufność dla wskaźnika struktury $p$ przyjmuje postać\n",
    "$$\n",
    "    \\Bigg( \\frac{k}{n}-z_{1-\\frac{\\alpha}{2}}\\sqrt{\\frac{\\frac{k}{n}(1-\\frac{k}{n})}{n}}, \\frac{k}{n}+z_{1-\\frac{\\alpha}{2}}\\sqrt{\\frac{\\frac{k}{n}(1-\\frac{k}{n})}{n}}\\Bigg).\n",
    "$$"
   ]
  },
  {
   "cell_type": "markdown",
   "metadata": {
    "id": "KJ1StttZXalz"
   },
   "source": [
    "**Zadanie - model 4.** Fabryka zakupiła nowy agregat. Wylosowano 1000 wyprodukowanych przez ten agregat detali. Okazało się, że 50 z nich nie spełnia normy jakości. Podać 99% przedział ufności dla wadliwości."
   ]
  },
  {
   "cell_type": "code",
   "execution_count": 50,
   "metadata": {
    "colab": {
     "base_uri": "https://localhost:8080/"
    },
    "executionInfo": {
     "elapsed": 305,
     "status": "ok",
     "timestamp": 1678053259381,
     "user": {
      "displayName": "Krzysztof Rudaś",
      "userId": "02080427901267625380"
     },
     "user_tz": -60
    },
    "id": "qzW4uNT6Xalz",
    "outputId": "c49d8bf2-99a4-4b72-c27d-f0f660387f43"
   },
   "outputs": [
    {
     "name": "stdout",
     "output_type": "stream",
     "text": [
      "Przedział ufnośći na poziomie ufności 0.99: (np.float64(0.03224732165140968), np.float64(0.06775267834859033))\n"
     ]
    }
   ],
   "source": [
    "# n - liczba wszystkich wyprodukowanych detali\n",
    "# k - liczba wyróżnionych detali, w tym przypadku, detali WADLIWYCH\n",
    "\n",
    "n = 1000\n",
    "k = 50\n",
    "\n",
    "m = k / n\n",
    "s = np.sqrt(m*(1-m)/n)\n",
    "alpha = 0.01\n",
    "z = stats.norm.ppf(q = 1-alpha/2, loc=0, scale=1)\n",
    "\n",
    "interval = (m - z * s, m + z * s)\n",
    "print(\"Przedział ufnośći na poziomie ufności 0.99: {}\".format(interval))"
   ]
  },
  {
   "cell_type": "code",
   "execution_count": 51,
   "metadata": {
    "id": "V-I7x2yKXalz"
   },
   "outputs": [],
   "source": [
    "def interval_confidence4(n, k, alpha):\n",
    "    m = k / n\n",
    "    s = np.sqrt(m * (1-m) / n)\n",
    "    return stats.norm.interval(confidence=1-alpha, loc=m, scale=s)"
   ]
  },
  {
   "cell_type": "code",
   "execution_count": 52,
   "metadata": {
    "colab": {
     "base_uri": "https://localhost:8080/"
    },
    "executionInfo": {
     "elapsed": 246,
     "status": "ok",
     "timestamp": 1678053272909,
     "user": {
      "displayName": "Krzysztof Rudaś",
      "userId": "02080427901267625380"
     },
     "user_tz": -60
    },
    "id": "TNIqbsv8Xalz",
    "outputId": "567ac1a8-cc07-4b9e-b174-f507113c4b78",
    "scrolled": true
   },
   "outputs": [
    {
     "data": {
      "text/plain": [
       "(np.float64(0.03224732165140968), np.float64(0.06775267834859033))"
      ]
     },
     "execution_count": 52,
     "metadata": {},
     "output_type": "execute_result"
    }
   ],
   "source": [
    "stats.norm.interval(confidence=1-alpha, loc=m, scale=s)"
   ]
  },
  {
   "cell_type": "markdown",
   "metadata": {
    "id": "MhlT9L_5Xal0"
   },
   "source": [
    "**Zadanie - model 4**.   Przeprowadzono  obserwacje  dotyczące  opóźnień  w  ruchu  pociągów.  Stwierdzono,  ze spośród 1000 losowo wybranych pociągów 160 przyjechało z opóźnieniem. Zakładając, ze opóźnienia poszczególnych pociągów są niezależne od siebie i jednakowo prawdopodobne dla  każdego  pociągu,  znaleźć  przedział  ufności  dla  prawdopodobieństwa  występowania opóźnienia na poziomie ufności 0,9."
   ]
  },
  {
   "cell_type": "code",
   "execution_count": 53,
   "metadata": {
    "colab": {
     "base_uri": "https://localhost:8080/"
    },
    "executionInfo": {
     "elapsed": 236,
     "status": "ok",
     "timestamp": 1678053281968,
     "user": {
      "displayName": "Krzysztof Rudaś",
      "userId": "02080427901267625380"
     },
     "user_tz": -60
    },
    "id": "fY-rFAbUXal0",
    "outputId": "e057ab24-dd1a-47b4-8c0c-b7b26f4de942"
   },
   "outputs": [
    {
     "name": "stdout",
     "output_type": "stream",
     "text": [
      "0.16\n",
      "Przedział ufnośći na poziomie ufności 0.99: (np.float64(0.14093104511960808), np.float64(0.17906895488039193))\n"
     ]
    }
   ],
   "source": [
    "n = 1000\n",
    "k = 160\n",
    "\n",
    "m = k / n\n",
    "print(m)\n",
    "s = np.sqrt(m*(1-m)/n)\n",
    "alpha = 0.1\n",
    "z = stats.norm.ppf(q = 1-alpha/2, loc=0, scale=1)\n",
    "\n",
    "interval = (m - z * s, m + z * s)\n",
    "print(\"Przedział ufnośći na poziomie ufności 0.99: {}\".format(interval))"
   ]
  },
  {
   "cell_type": "code",
   "execution_count": 54,
   "metadata": {
    "colab": {
     "base_uri": "https://localhost:8080/"
    },
    "executionInfo": {
     "elapsed": 245,
     "status": "ok",
     "timestamp": 1678053287591,
     "user": {
      "displayName": "Krzysztof Rudaś",
      "userId": "02080427901267625380"
     },
     "user_tz": -60
    },
    "id": "_48af7sqXal0",
    "outputId": "f64cdcfe-435e-4cca-af98-f3f54543e4e3"
   },
   "outputs": [
    {
     "data": {
      "text/plain": [
       "(np.float64(0.14093104511960805), np.float64(0.17906895488039193))"
      ]
     },
     "execution_count": 54,
     "metadata": {},
     "output_type": "execute_result"
    }
   ],
   "source": [
    "stats.norm.interval(confidence=1-alpha, loc=m, scale=s)"
   ]
  },
  {
   "cell_type": "markdown",
   "metadata": {
    "id": "zfxwYPDuXal0"
   },
   "source": [
    "### Zadania\n",
    "**Zadanie 1.** Czas montowania bębna w pralce automatycznej jest zmienną losową o rozkładzie normalnym. Zmierzono czas montowania bębna przez 16 losowo wybranych robotników i otrzymano następujące wyniki (w minutach): 7.56, 6.61, 9.11, 8.75, 6.89, 7.11, 7.87, 8.33, 5.51, 7.05, 6.75, 9.49, 8.01, 7.52, 5.15, 8.52. Na poziomie ufności 0.95 podać przedział ufności dla średniego czasu montażu bębna w pralce.\n",
    "\n",
    "**Zadanie 2.** Średnia cena 100 losowo wybranych podręczników akademickich wynosiła 64,99 zł. Wiadomo, że odchylenie standardowe cen podręczników wynosi 7,12 zł. Wyznaczyć 95% przedział ufności dla średniej ceny podręcznika akademickiego zakładając, że rozkład cen jest rozkładem normalnym.\n",
    "\n",
    "**Zadanie 3.** Na 200 połączeń telefonicznych w pewnej centrali 17 okazało się błędnych. Na poziomie ufności 0.95 zbudować przedział ufności dla frakcji błędnych połączeń.\n",
    "\n",
    "**Zadanie 4.** Dział kontroli jakości w zakładach chemicznych chce oszacować średnią wagę proszku do prania sprzedawanego w pudełkach o nominalnej wadze 3 kg. Pobrano w tym celu próbkę 9 pudełek proszku do prania. Każde pudełko zważono i otrzymano następujące wyniki (w kilogramach): 2.97, 3.04, 2.95, 3.01, 3.00, 2.99, 2.97, 3.05, 2.96. Wiadomo, że rozkład wagi pudełka proszku do prania jest normalny. Na poziomie ufności 0.9 zbudować przedział ufności dla średniej wagi pudełka proszku do prania.\n",
    "\n",
    "**Zadanie 5.** W 7-osobowej losowo wybranej grupie uczniów zmierzono czas rozwiązywania pewnego zadania matematycznego. Otrzymano następujące wyniki (w minutach): 5, 17, 20, 23, 22, 25, 21. Zakładamy, że czas rozwiązania zadania ma rozkład normalny. Na poziomie ufności 0.99 podać przedział ufności dla średniego czasu rozwiązywania danego zadania.\n",
    "\n",
    "**Zadanie 6.** Zbadano grupę krwi 100 osób i stwierdzono, że 35 osób miało grupę krwi ,,0''. Na poziomie ufności 0.95 oszacować przedziałowo procent osób posiadających grupę kriw ,,0'' w całej populacji.\n",
    "\n",
    "**Zadanie 7.** Przy badaniu wysokości wynagrodzeń w przemyśle informatycznym w województwie mazowieckim w 2018 roku wylosowano 500 pracowników. Na podstawie wyników próby otrzymano średnie miesięczne wynagrodzenie na poziomie 8802 zł oraz odchylenie standardowe 783 zł. Przyjmując poziom ufności 0.99, oszacować nieznaną średnią w rozkładzie wynagrodzeń ogółu pracowników przemysłu informatycznego w województwie mazowieckim.\n",
    "\n",
    "**Zadanie 8.** W jednej z politechnik wylosowano niezależnie próbę 200 studentów, z których jedynie 60 zdało wszystkie egzaminy w pierwszym terminie. Na poziomie ufności 0.9 podać przedział ufności dla procentu studentów zaliczających sesję w pierwszym terminie."
   ]
  },
  {
   "cell_type": "markdown",
   "metadata": {
    "id": "-nwFrbrgXal0"
   },
   "source": [
    "**Odpowiedzi**:\n",
    "    \n",
    "1) (6.871904199623725, 8.156845800376272)\n",
    "\n",
    "2) (63.59450564300748, 66.38549435699251)\n",
    "\n",
    "3) (0.04634967918765191, 0.1236503208123481)\n",
    "\n",
    "4) (2.9716386062289, 3.0150280604377664)\n",
    "\n",
    "5) (9.669844086104506, 28.330155913895496)\n",
    "\n",
    "6) (0.2565156760890943, 0.44348432391090564)\n",
    "\n",
    "7) (8711.802637264458, 8892.197362735542)\n",
    "\n",
    "8) (0.24670065078445905, 0.3532993492155409)"
   ]
  },
  {
   "cell_type": "code",
   "execution_count": 55,
   "metadata": {
    "colab": {
     "base_uri": "https://localhost:8080/"
    },
    "executionInfo": {
     "elapsed": 275,
     "status": "ok",
     "timestamp": 1720255558090,
     "user": {
      "displayName": "Krzysztof Rudaś",
      "userId": "02080427901267625380"
     },
     "user_tz": -120
    },
    "id": "Z9BxO_oHOIMh",
    "outputId": "f438a0f9-f69d-4879-9414-031bcc79a431"
   },
   "outputs": [
    {
     "data": {
      "text/plain": [
       "(np.float64(6.871904199623725), np.float64(8.156845800376272))"
      ]
     },
     "execution_count": 55,
     "metadata": {},
     "output_type": "execute_result"
    }
   ],
   "source": [
    "# zadanie 1\n",
    "\n",
    "x = np.array([7.56, 6.61, 9.11, 8.75, 6.89, 7.11, 7.87, 8.33, 5.51, 7.05, 6.75, 9.49, 8.01, 7.52, 5.15, 8.52])\n",
    "\n",
    "n = 16\n",
    "X_mean = np.mean(x)\n",
    "S = np.std(x, ddof=1)\n",
    "alpha1 = 0.05\n",
    "\n",
    "stats.t.interval(confidence=1-alpha1, loc=X_mean, scale=S/np.sqrt(n),df=n-1)"
   ]
  }
 ],
 "metadata": {
  "colab": {
   "provenance": []
  },
  "kernelspec": {
   "display_name": ".venv",
   "language": "python",
   "name": "python3"
  },
  "language_info": {
   "codemirror_mode": {
    "name": "ipython",
    "version": 3
   },
   "file_extension": ".py",
   "mimetype": "text/x-python",
   "name": "python",
   "nbconvert_exporter": "python",
   "pygments_lexer": "ipython3",
   "version": "3.12.0"
  }
 },
 "nbformat": 4,
 "nbformat_minor": 0
}
